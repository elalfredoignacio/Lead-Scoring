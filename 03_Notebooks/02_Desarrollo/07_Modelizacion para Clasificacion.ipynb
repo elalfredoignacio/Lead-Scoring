{
 "cells": [
  {
   "cell_type": "markdown",
   "id": "d31dea65",
   "metadata": {},
   "source": [
    "# MODELIZACIÓN PARA CLASIFICACIÓN"
   ]
  },
  {
   "cell_type": "markdown",
   "id": "8da437fb",
   "metadata": {},
   "source": [
    "**IMPORTANTE**: Esta plantilla está diseñada para una visión de máximos utilizando el framework de The Ultimate Algo Machine. Si tienes problemas de memoria o rendimiento recuerda reducir el problema mediante:\n",
    "\n",
    "* Muestreo\n",
    "* Balanceo undersampling\n",
    "* Reducir el número de algoritmos a testar\n",
    "* Reducir el número de parámetros a testar\n",
    "* Usar random search y especificar un n_iter adecuado (en el proceso de hiperparametrización)"
   ]
  },
  {
   "cell_type": "markdown",
   "id": "swiss-fault",
   "metadata": {},
   "source": [
    "## IMPORTAR PAQUETES"
   ]
  },
  {
   "cell_type": "code",
   "execution_count": 1,
   "id": "adjacent-toddler",
   "metadata": {},
   "outputs": [],
   "source": [
    "import numpy as np\n",
    "import pandas as pd\n",
    "import matplotlib.pyplot as plt\n",
    "%matplotlib inline\n",
    "\n",
    "from sklearn.model_selection import train_test_split\n",
    "\n",
    "from sklearn.linear_model import LogisticRegression\n",
    "from sklearn.ensemble import RandomForestClassifier\n",
    "from xgboost import XGBClassifier\n",
    "from sklearn.ensemble import HistGradientBoostingClassifier\n",
    "from sklearn.pipeline import Pipeline\n",
    "\n",
    "from sklearn.model_selection import GridSearchCV\n",
    "from sklearn.model_selection import RandomizedSearchCV\n",
    "\n",
    "from sklearn.metrics import roc_auc_score\n",
    "from sklearn.metrics import confusion_matrix\n",
    "from sklearn.metrics import ConfusionMatrixDisplay\n",
    "\n",
    "from sklearn.metrics import classification_report\n",
    "\n",
    "#from sklearn.metrics import plot_precision_recall_curve\n",
    "from sklearn.metrics import PrecisionRecallDisplay\n",
    "import scikitplot as skplt\n",
    "#from yellowbrick.classifier import discrimination_threshold\n",
    "\n",
    "#Autocompletar rápido\n",
    "%config IPCompleter.greedy=True\n",
    "\n",
    "#Desactivar la notación científica\n",
    "pd.options.display.float_format = '{:.2f}'.format\n",
    "\n",
    "#Desactivar los warnings\n",
    "import warnings\n",
    "warnings.filterwarnings(\"ignore\")"
   ]
  },
  {
   "cell_type": "markdown",
   "id": "graduate-compensation",
   "metadata": {},
   "source": [
    "## IMPORTAR LOS DATOS"
   ]
  },
  {
   "cell_type": "markdown",
   "id": "3a5b94ef",
   "metadata": {},
   "source": [
    "Sustituir la ruta del proyecto."
   ]
  },
  {
   "cell_type": "code",
   "execution_count": 2,
   "id": "f9d2de58",
   "metadata": {},
   "outputs": [],
   "source": [
    "ruta_proyecto = 'C:/Usuarios/Alfredo/DS4B/Python DS Mastery/EstructuraDirectorio/03_MACHINE_LEARNING/07_CASOS/01_LEADSCORING'"
   ]
  },
  {
   "cell_type": "markdown",
   "id": "c3363765",
   "metadata": {},
   "source": [
    "Nombres de los ficheros de datos."
   ]
  },
  {
   "cell_type": "code",
   "execution_count": 3,
   "id": "a9e2e04a",
   "metadata": {},
   "outputs": [],
   "source": [
    "nombre_x = 'x_preseleccionado.pickle'\n",
    "nombre_y = 'y_preseleccionado.pickle'"
   ]
  },
  {
   "cell_type": "markdown",
   "id": "b9825018",
   "metadata": {},
   "source": [
    "Cargar los datos."
   ]
  },
  {
   "cell_type": "code",
   "execution_count": 4,
   "id": "cab6ebcd",
   "metadata": {},
   "outputs": [],
   "source": [
    "x = pd.read_pickle(ruta_proyecto + '/02_Datos/03_Trabajo/' + nombre_x)\n",
    "y = pd.read_pickle(ruta_proyecto + '/02_Datos/03_Trabajo/' + nombre_y)"
   ]
  },
  {
   "cell_type": "markdown",
   "id": "9790d322",
   "metadata": {},
   "source": [
    "## MODELIZAR"
   ]
  },
  {
   "cell_type": "markdown",
   "id": "930f685f",
   "metadata": {},
   "source": [
    "### Reservar el dataset de validacion"
   ]
  },
  {
   "cell_type": "code",
   "execution_count": 8,
   "id": "84b6fd41",
   "metadata": {},
   "outputs": [],
   "source": [
    "train_x,val_x,train_y,val_y = train_test_split(x,y,test_size=0.3)"
   ]
  },
  {
   "cell_type": "markdown",
   "id": "53bd4ad6",
   "metadata": {},
   "source": [
    "### Crear el pipe y el diccionario de algorimos, parámetros y valores a testar"
   ]
  },
  {
   "cell_type": "markdown",
   "id": "19b25807",
   "metadata": {},
   "source": [
    "Voy a usar solamente regresion logistica, dado que es sabido que anda bien para lead scoring\n",
    "\n",
    "Modificar los parámetros."
   ]
  },
  {
   "cell_type": "code",
   "execution_count": 34,
   "id": "3efa5c98",
   "metadata": {},
   "outputs": [],
   "source": [
    "# el RandomForestClassifier() es solamente para abrir el Pipeline (con Pipeline tengo que poner \n",
    "# una tupla con el nombre le quieras poner y como segundo elemento la instancia del objeto)\n",
    "pipe = Pipeline([('algoritmo',RandomForestClassifier())]) \n",
    "\n",
    "grid = [{'algoritmo': [LogisticRegression()],\n",
    "         'algoritmo__n_jobs': [-1],\n",
    "         'algoritmo__solver': ['saga'],\n",
    "         'algoritmo__penalty': ['elasticnet', 'l1', 'l2', 'none'],\n",
    "         'algoritmo__C': [0,0.25,0.5,0.75,1]}\n",
    "       ]"
   ]
  },
  {
   "cell_type": "markdown",
   "id": "1f836ca9",
   "metadata": {},
   "source": [
    "### Optimizar los hiper parámetros"
   ]
  },
  {
   "cell_type": "markdown",
   "id": "32983bac",
   "metadata": {},
   "source": [
    "Elegir si se quiere usar grid search o random search.\n",
    "\n",
    "Comentar la opción que no se vaya a usar. Voy a usar grid search porque son pocos parametros "
   ]
  },
  {
   "cell_type": "markdown",
   "id": "3d73daa9",
   "metadata": {},
   "source": [
    "####  Con grid search"
   ]
  },
  {
   "cell_type": "code",
   "execution_count": 35,
   "id": "4be08386",
   "metadata": {},
   "outputs": [
    {
     "data": {
      "text/html": [
       "<div>\n",
       "<style scoped>\n",
       "    .dataframe tbody tr th:only-of-type {\n",
       "        vertical-align: middle;\n",
       "    }\n",
       "\n",
       "    .dataframe tbody tr th {\n",
       "        vertical-align: top;\n",
       "    }\n",
       "\n",
       "    .dataframe thead th {\n",
       "        text-align: right;\n",
       "    }\n",
       "</style>\n",
       "<table border=\"1\" class=\"dataframe\">\n",
       "  <thead>\n",
       "    <tr style=\"text-align: right;\">\n",
       "      <th></th>\n",
       "      <th>mean_fit_time</th>\n",
       "      <th>std_fit_time</th>\n",
       "      <th>mean_score_time</th>\n",
       "      <th>std_score_time</th>\n",
       "      <th>param_algoritmo</th>\n",
       "      <th>param_algoritmo__C</th>\n",
       "      <th>param_algoritmo__n_jobs</th>\n",
       "      <th>param_algoritmo__penalty</th>\n",
       "      <th>param_algoritmo__solver</th>\n",
       "      <th>params</th>\n",
       "      <th>split0_test_score</th>\n",
       "      <th>split1_test_score</th>\n",
       "      <th>split2_test_score</th>\n",
       "      <th>mean_test_score</th>\n",
       "      <th>std_test_score</th>\n",
       "      <th>rank_test_score</th>\n",
       "    </tr>\n",
       "  </thead>\n",
       "  <tbody>\n",
       "    <tr>\n",
       "      <th>15</th>\n",
       "      <td>0.09</td>\n",
       "      <td>0.02</td>\n",
       "      <td>0.01</td>\n",
       "      <td>0.00</td>\n",
       "      <td>LogisticRegression(C=0.75, n_jobs=-1, penalty=...</td>\n",
       "      <td>0.75</td>\n",
       "      <td>-1</td>\n",
       "      <td>none</td>\n",
       "      <td>saga</td>\n",
       "      <td>{'algoritmo': LogisticRegression(C=0.75, n_job...</td>\n",
       "      <td>0.86</td>\n",
       "      <td>0.85</td>\n",
       "      <td>0.86</td>\n",
       "      <td>0.86</td>\n",
       "      <td>0.01</td>\n",
       "      <td>1</td>\n",
       "    </tr>\n",
       "    <tr>\n",
       "      <th>7</th>\n",
       "      <td>0.10</td>\n",
       "      <td>0.01</td>\n",
       "      <td>0.01</td>\n",
       "      <td>0.00</td>\n",
       "      <td>LogisticRegression(C=0.75, n_jobs=-1, penalty=...</td>\n",
       "      <td>0.25</td>\n",
       "      <td>-1</td>\n",
       "      <td>none</td>\n",
       "      <td>saga</td>\n",
       "      <td>{'algoritmo': LogisticRegression(C=0.75, n_job...</td>\n",
       "      <td>0.86</td>\n",
       "      <td>0.85</td>\n",
       "      <td>0.86</td>\n",
       "      <td>0.86</td>\n",
       "      <td>0.01</td>\n",
       "      <td>2</td>\n",
       "    </tr>\n",
       "    <tr>\n",
       "      <th>19</th>\n",
       "      <td>0.06</td>\n",
       "      <td>0.01</td>\n",
       "      <td>0.01</td>\n",
       "      <td>0.00</td>\n",
       "      <td>LogisticRegression(C=0.75, n_jobs=-1, penalty=...</td>\n",
       "      <td>1</td>\n",
       "      <td>-1</td>\n",
       "      <td>none</td>\n",
       "      <td>saga</td>\n",
       "      <td>{'algoritmo': LogisticRegression(C=0.75, n_job...</td>\n",
       "      <td>0.86</td>\n",
       "      <td>0.85</td>\n",
       "      <td>0.86</td>\n",
       "      <td>0.86</td>\n",
       "      <td>0.01</td>\n",
       "      <td>3</td>\n",
       "    </tr>\n",
       "    <tr>\n",
       "      <th>11</th>\n",
       "      <td>0.09</td>\n",
       "      <td>0.01</td>\n",
       "      <td>0.00</td>\n",
       "      <td>0.00</td>\n",
       "      <td>LogisticRegression(C=0.75, n_jobs=-1, penalty=...</td>\n",
       "      <td>0.50</td>\n",
       "      <td>-1</td>\n",
       "      <td>none</td>\n",
       "      <td>saga</td>\n",
       "      <td>{'algoritmo': LogisticRegression(C=0.75, n_job...</td>\n",
       "      <td>0.86</td>\n",
       "      <td>0.85</td>\n",
       "      <td>0.86</td>\n",
       "      <td>0.86</td>\n",
       "      <td>0.01</td>\n",
       "      <td>4</td>\n",
       "    </tr>\n",
       "    <tr>\n",
       "      <th>17</th>\n",
       "      <td>0.10</td>\n",
       "      <td>0.02</td>\n",
       "      <td>0.01</td>\n",
       "      <td>0.00</td>\n",
       "      <td>LogisticRegression(C=0.75, n_jobs=-1, penalty=...</td>\n",
       "      <td>1</td>\n",
       "      <td>-1</td>\n",
       "      <td>l1</td>\n",
       "      <td>saga</td>\n",
       "      <td>{'algoritmo': LogisticRegression(C=0.75, n_job...</td>\n",
       "      <td>0.86</td>\n",
       "      <td>0.85</td>\n",
       "      <td>0.86</td>\n",
       "      <td>0.86</td>\n",
       "      <td>0.00</td>\n",
       "      <td>5</td>\n",
       "    </tr>\n",
       "    <tr>\n",
       "      <th>13</th>\n",
       "      <td>0.10</td>\n",
       "      <td>0.01</td>\n",
       "      <td>0.01</td>\n",
       "      <td>0.00</td>\n",
       "      <td>LogisticRegression(C=0.75, n_jobs=-1, penalty=...</td>\n",
       "      <td>0.75</td>\n",
       "      <td>-1</td>\n",
       "      <td>l1</td>\n",
       "      <td>saga</td>\n",
       "      <td>{'algoritmo': LogisticRegression(C=0.75, n_job...</td>\n",
       "      <td>0.86</td>\n",
       "      <td>0.85</td>\n",
       "      <td>0.86</td>\n",
       "      <td>0.86</td>\n",
       "      <td>0.00</td>\n",
       "      <td>6</td>\n",
       "    </tr>\n",
       "    <tr>\n",
       "      <th>9</th>\n",
       "      <td>0.10</td>\n",
       "      <td>0.01</td>\n",
       "      <td>0.01</td>\n",
       "      <td>0.00</td>\n",
       "      <td>LogisticRegression(C=0.75, n_jobs=-1, penalty=...</td>\n",
       "      <td>0.50</td>\n",
       "      <td>-1</td>\n",
       "      <td>l1</td>\n",
       "      <td>saga</td>\n",
       "      <td>{'algoritmo': LogisticRegression(C=0.75, n_job...</td>\n",
       "      <td>0.85</td>\n",
       "      <td>0.85</td>\n",
       "      <td>0.86</td>\n",
       "      <td>0.86</td>\n",
       "      <td>0.00</td>\n",
       "      <td>7</td>\n",
       "    </tr>\n",
       "    <tr>\n",
       "      <th>18</th>\n",
       "      <td>0.06</td>\n",
       "      <td>0.01</td>\n",
       "      <td>0.01</td>\n",
       "      <td>0.00</td>\n",
       "      <td>LogisticRegression(C=0.75, n_jobs=-1, penalty=...</td>\n",
       "      <td>1</td>\n",
       "      <td>-1</td>\n",
       "      <td>l2</td>\n",
       "      <td>saga</td>\n",
       "      <td>{'algoritmo': LogisticRegression(C=0.75, n_job...</td>\n",
       "      <td>0.86</td>\n",
       "      <td>0.85</td>\n",
       "      <td>0.86</td>\n",
       "      <td>0.86</td>\n",
       "      <td>0.00</td>\n",
       "      <td>8</td>\n",
       "    </tr>\n",
       "    <tr>\n",
       "      <th>5</th>\n",
       "      <td>0.09</td>\n",
       "      <td>0.00</td>\n",
       "      <td>0.01</td>\n",
       "      <td>0.00</td>\n",
       "      <td>LogisticRegression(C=0.75, n_jobs=-1, penalty=...</td>\n",
       "      <td>0.25</td>\n",
       "      <td>-1</td>\n",
       "      <td>l1</td>\n",
       "      <td>saga</td>\n",
       "      <td>{'algoritmo': LogisticRegression(C=0.75, n_job...</td>\n",
       "      <td>0.85</td>\n",
       "      <td>0.85</td>\n",
       "      <td>0.86</td>\n",
       "      <td>0.85</td>\n",
       "      <td>0.00</td>\n",
       "      <td>9</td>\n",
       "    </tr>\n",
       "    <tr>\n",
       "      <th>14</th>\n",
       "      <td>0.06</td>\n",
       "      <td>0.00</td>\n",
       "      <td>0.00</td>\n",
       "      <td>0.00</td>\n",
       "      <td>LogisticRegression(C=0.75, n_jobs=-1, penalty=...</td>\n",
       "      <td>0.75</td>\n",
       "      <td>-1</td>\n",
       "      <td>l2</td>\n",
       "      <td>saga</td>\n",
       "      <td>{'algoritmo': LogisticRegression(C=0.75, n_job...</td>\n",
       "      <td>0.86</td>\n",
       "      <td>0.85</td>\n",
       "      <td>0.86</td>\n",
       "      <td>0.85</td>\n",
       "      <td>0.00</td>\n",
       "      <td>10</td>\n",
       "    </tr>\n",
       "    <tr>\n",
       "      <th>10</th>\n",
       "      <td>0.06</td>\n",
       "      <td>0.01</td>\n",
       "      <td>0.01</td>\n",
       "      <td>0.00</td>\n",
       "      <td>LogisticRegression(C=0.75, n_jobs=-1, penalty=...</td>\n",
       "      <td>0.50</td>\n",
       "      <td>-1</td>\n",
       "      <td>l2</td>\n",
       "      <td>saga</td>\n",
       "      <td>{'algoritmo': LogisticRegression(C=0.75, n_job...</td>\n",
       "      <td>0.85</td>\n",
       "      <td>0.85</td>\n",
       "      <td>0.85</td>\n",
       "      <td>0.85</td>\n",
       "      <td>0.00</td>\n",
       "      <td>11</td>\n",
       "    </tr>\n",
       "    <tr>\n",
       "      <th>6</th>\n",
       "      <td>0.07</td>\n",
       "      <td>0.01</td>\n",
       "      <td>0.01</td>\n",
       "      <td>0.00</td>\n",
       "      <td>LogisticRegression(C=0.75, n_jobs=-1, penalty=...</td>\n",
       "      <td>0.25</td>\n",
       "      <td>-1</td>\n",
       "      <td>l2</td>\n",
       "      <td>saga</td>\n",
       "      <td>{'algoritmo': LogisticRegression(C=0.75, n_job...</td>\n",
       "      <td>0.85</td>\n",
       "      <td>0.85</td>\n",
       "      <td>0.85</td>\n",
       "      <td>0.85</td>\n",
       "      <td>0.00</td>\n",
       "      <td>12</td>\n",
       "    </tr>\n",
       "    <tr>\n",
       "      <th>8</th>\n",
       "      <td>0.03</td>\n",
       "      <td>0.00</td>\n",
       "      <td>0.00</td>\n",
       "      <td>0.00</td>\n",
       "      <td>LogisticRegression(C=0.75, n_jobs=-1, penalty=...</td>\n",
       "      <td>0.50</td>\n",
       "      <td>-1</td>\n",
       "      <td>elasticnet</td>\n",
       "      <td>saga</td>\n",
       "      <td>{'algoritmo': LogisticRegression(C=0.75, n_job...</td>\n",
       "      <td>NaN</td>\n",
       "      <td>NaN</td>\n",
       "      <td>NaN</td>\n",
       "      <td>NaN</td>\n",
       "      <td>NaN</td>\n",
       "      <td>13</td>\n",
       "    </tr>\n",
       "    <tr>\n",
       "      <th>4</th>\n",
       "      <td>0.03</td>\n",
       "      <td>0.01</td>\n",
       "      <td>0.00</td>\n",
       "      <td>0.00</td>\n",
       "      <td>LogisticRegression(C=0.75, n_jobs=-1, penalty=...</td>\n",
       "      <td>0.25</td>\n",
       "      <td>-1</td>\n",
       "      <td>elasticnet</td>\n",
       "      <td>saga</td>\n",
       "      <td>{'algoritmo': LogisticRegression(C=0.75, n_job...</td>\n",
       "      <td>NaN</td>\n",
       "      <td>NaN</td>\n",
       "      <td>NaN</td>\n",
       "      <td>NaN</td>\n",
       "      <td>NaN</td>\n",
       "      <td>13</td>\n",
       "    </tr>\n",
       "    <tr>\n",
       "      <th>12</th>\n",
       "      <td>0.03</td>\n",
       "      <td>0.00</td>\n",
       "      <td>0.00</td>\n",
       "      <td>0.00</td>\n",
       "      <td>LogisticRegression(C=0.75, n_jobs=-1, penalty=...</td>\n",
       "      <td>0.75</td>\n",
       "      <td>-1</td>\n",
       "      <td>elasticnet</td>\n",
       "      <td>saga</td>\n",
       "      <td>{'algoritmo': LogisticRegression(C=0.75, n_job...</td>\n",
       "      <td>NaN</td>\n",
       "      <td>NaN</td>\n",
       "      <td>NaN</td>\n",
       "      <td>NaN</td>\n",
       "      <td>NaN</td>\n",
       "      <td>13</td>\n",
       "    </tr>\n",
       "    <tr>\n",
       "      <th>3</th>\n",
       "      <td>0.01</td>\n",
       "      <td>0.01</td>\n",
       "      <td>0.00</td>\n",
       "      <td>0.00</td>\n",
       "      <td>LogisticRegression(C=0.75, n_jobs=-1, penalty=...</td>\n",
       "      <td>0</td>\n",
       "      <td>-1</td>\n",
       "      <td>none</td>\n",
       "      <td>saga</td>\n",
       "      <td>{'algoritmo': LogisticRegression(C=0.75, n_job...</td>\n",
       "      <td>NaN</td>\n",
       "      <td>NaN</td>\n",
       "      <td>NaN</td>\n",
       "      <td>NaN</td>\n",
       "      <td>NaN</td>\n",
       "      <td>13</td>\n",
       "    </tr>\n",
       "    <tr>\n",
       "      <th>2</th>\n",
       "      <td>0.00</td>\n",
       "      <td>0.00</td>\n",
       "      <td>0.00</td>\n",
       "      <td>0.00</td>\n",
       "      <td>LogisticRegression(C=0.75, n_jobs=-1, penalty=...</td>\n",
       "      <td>0</td>\n",
       "      <td>-1</td>\n",
       "      <td>l2</td>\n",
       "      <td>saga</td>\n",
       "      <td>{'algoritmo': LogisticRegression(C=0.75, n_job...</td>\n",
       "      <td>NaN</td>\n",
       "      <td>NaN</td>\n",
       "      <td>NaN</td>\n",
       "      <td>NaN</td>\n",
       "      <td>NaN</td>\n",
       "      <td>13</td>\n",
       "    </tr>\n",
       "    <tr>\n",
       "      <th>16</th>\n",
       "      <td>0.04</td>\n",
       "      <td>0.00</td>\n",
       "      <td>0.00</td>\n",
       "      <td>0.00</td>\n",
       "      <td>LogisticRegression(C=0.75, n_jobs=-1, penalty=...</td>\n",
       "      <td>1</td>\n",
       "      <td>-1</td>\n",
       "      <td>elasticnet</td>\n",
       "      <td>saga</td>\n",
       "      <td>{'algoritmo': LogisticRegression(C=0.75, n_job...</td>\n",
       "      <td>NaN</td>\n",
       "      <td>NaN</td>\n",
       "      <td>NaN</td>\n",
       "      <td>NaN</td>\n",
       "      <td>NaN</td>\n",
       "      <td>13</td>\n",
       "    </tr>\n",
       "    <tr>\n",
       "      <th>1</th>\n",
       "      <td>0.01</td>\n",
       "      <td>0.01</td>\n",
       "      <td>0.00</td>\n",
       "      <td>0.00</td>\n",
       "      <td>LogisticRegression(C=0.75, n_jobs=-1, penalty=...</td>\n",
       "      <td>0</td>\n",
       "      <td>-1</td>\n",
       "      <td>l1</td>\n",
       "      <td>saga</td>\n",
       "      <td>{'algoritmo': LogisticRegression(C=0.75, n_job...</td>\n",
       "      <td>NaN</td>\n",
       "      <td>NaN</td>\n",
       "      <td>NaN</td>\n",
       "      <td>NaN</td>\n",
       "      <td>NaN</td>\n",
       "      <td>13</td>\n",
       "    </tr>\n",
       "    <tr>\n",
       "      <th>0</th>\n",
       "      <td>0.00</td>\n",
       "      <td>0.00</td>\n",
       "      <td>0.00</td>\n",
       "      <td>0.00</td>\n",
       "      <td>LogisticRegression(C=0.75, n_jobs=-1, penalty=...</td>\n",
       "      <td>0</td>\n",
       "      <td>-1</td>\n",
       "      <td>elasticnet</td>\n",
       "      <td>saga</td>\n",
       "      <td>{'algoritmo': LogisticRegression(C=0.75, n_job...</td>\n",
       "      <td>NaN</td>\n",
       "      <td>NaN</td>\n",
       "      <td>NaN</td>\n",
       "      <td>NaN</td>\n",
       "      <td>NaN</td>\n",
       "      <td>13</td>\n",
       "    </tr>\n",
       "  </tbody>\n",
       "</table>\n",
       "</div>"
      ],
      "text/plain": [
       "    mean_fit_time  std_fit_time  mean_score_time  std_score_time  \\\n",
       "15           0.09          0.02             0.01            0.00   \n",
       "7            0.10          0.01             0.01            0.00   \n",
       "19           0.06          0.01             0.01            0.00   \n",
       "11           0.09          0.01             0.00            0.00   \n",
       "17           0.10          0.02             0.01            0.00   \n",
       "13           0.10          0.01             0.01            0.00   \n",
       "9            0.10          0.01             0.01            0.00   \n",
       "18           0.06          0.01             0.01            0.00   \n",
       "5            0.09          0.00             0.01            0.00   \n",
       "14           0.06          0.00             0.00            0.00   \n",
       "10           0.06          0.01             0.01            0.00   \n",
       "6            0.07          0.01             0.01            0.00   \n",
       "8            0.03          0.00             0.00            0.00   \n",
       "4            0.03          0.01             0.00            0.00   \n",
       "12           0.03          0.00             0.00            0.00   \n",
       "3            0.01          0.01             0.00            0.00   \n",
       "2            0.00          0.00             0.00            0.00   \n",
       "16           0.04          0.00             0.00            0.00   \n",
       "1            0.01          0.01             0.00            0.00   \n",
       "0            0.00          0.00             0.00            0.00   \n",
       "\n",
       "                                      param_algoritmo param_algoritmo__C  \\\n",
       "15  LogisticRegression(C=0.75, n_jobs=-1, penalty=...               0.75   \n",
       "7   LogisticRegression(C=0.75, n_jobs=-1, penalty=...               0.25   \n",
       "19  LogisticRegression(C=0.75, n_jobs=-1, penalty=...                  1   \n",
       "11  LogisticRegression(C=0.75, n_jobs=-1, penalty=...               0.50   \n",
       "17  LogisticRegression(C=0.75, n_jobs=-1, penalty=...                  1   \n",
       "13  LogisticRegression(C=0.75, n_jobs=-1, penalty=...               0.75   \n",
       "9   LogisticRegression(C=0.75, n_jobs=-1, penalty=...               0.50   \n",
       "18  LogisticRegression(C=0.75, n_jobs=-1, penalty=...                  1   \n",
       "5   LogisticRegression(C=0.75, n_jobs=-1, penalty=...               0.25   \n",
       "14  LogisticRegression(C=0.75, n_jobs=-1, penalty=...               0.75   \n",
       "10  LogisticRegression(C=0.75, n_jobs=-1, penalty=...               0.50   \n",
       "6   LogisticRegression(C=0.75, n_jobs=-1, penalty=...               0.25   \n",
       "8   LogisticRegression(C=0.75, n_jobs=-1, penalty=...               0.50   \n",
       "4   LogisticRegression(C=0.75, n_jobs=-1, penalty=...               0.25   \n",
       "12  LogisticRegression(C=0.75, n_jobs=-1, penalty=...               0.75   \n",
       "3   LogisticRegression(C=0.75, n_jobs=-1, penalty=...                  0   \n",
       "2   LogisticRegression(C=0.75, n_jobs=-1, penalty=...                  0   \n",
       "16  LogisticRegression(C=0.75, n_jobs=-1, penalty=...                  1   \n",
       "1   LogisticRegression(C=0.75, n_jobs=-1, penalty=...                  0   \n",
       "0   LogisticRegression(C=0.75, n_jobs=-1, penalty=...                  0   \n",
       "\n",
       "   param_algoritmo__n_jobs param_algoritmo__penalty param_algoritmo__solver  \\\n",
       "15                      -1                     none                    saga   \n",
       "7                       -1                     none                    saga   \n",
       "19                      -1                     none                    saga   \n",
       "11                      -1                     none                    saga   \n",
       "17                      -1                       l1                    saga   \n",
       "13                      -1                       l1                    saga   \n",
       "9                       -1                       l1                    saga   \n",
       "18                      -1                       l2                    saga   \n",
       "5                       -1                       l1                    saga   \n",
       "14                      -1                       l2                    saga   \n",
       "10                      -1                       l2                    saga   \n",
       "6                       -1                       l2                    saga   \n",
       "8                       -1               elasticnet                    saga   \n",
       "4                       -1               elasticnet                    saga   \n",
       "12                      -1               elasticnet                    saga   \n",
       "3                       -1                     none                    saga   \n",
       "2                       -1                       l2                    saga   \n",
       "16                      -1               elasticnet                    saga   \n",
       "1                       -1                       l1                    saga   \n",
       "0                       -1               elasticnet                    saga   \n",
       "\n",
       "                                               params  split0_test_score  \\\n",
       "15  {'algoritmo': LogisticRegression(C=0.75, n_job...               0.86   \n",
       "7   {'algoritmo': LogisticRegression(C=0.75, n_job...               0.86   \n",
       "19  {'algoritmo': LogisticRegression(C=0.75, n_job...               0.86   \n",
       "11  {'algoritmo': LogisticRegression(C=0.75, n_job...               0.86   \n",
       "17  {'algoritmo': LogisticRegression(C=0.75, n_job...               0.86   \n",
       "13  {'algoritmo': LogisticRegression(C=0.75, n_job...               0.86   \n",
       "9   {'algoritmo': LogisticRegression(C=0.75, n_job...               0.85   \n",
       "18  {'algoritmo': LogisticRegression(C=0.75, n_job...               0.86   \n",
       "5   {'algoritmo': LogisticRegression(C=0.75, n_job...               0.85   \n",
       "14  {'algoritmo': LogisticRegression(C=0.75, n_job...               0.86   \n",
       "10  {'algoritmo': LogisticRegression(C=0.75, n_job...               0.85   \n",
       "6   {'algoritmo': LogisticRegression(C=0.75, n_job...               0.85   \n",
       "8   {'algoritmo': LogisticRegression(C=0.75, n_job...                NaN   \n",
       "4   {'algoritmo': LogisticRegression(C=0.75, n_job...                NaN   \n",
       "12  {'algoritmo': LogisticRegression(C=0.75, n_job...                NaN   \n",
       "3   {'algoritmo': LogisticRegression(C=0.75, n_job...                NaN   \n",
       "2   {'algoritmo': LogisticRegression(C=0.75, n_job...                NaN   \n",
       "16  {'algoritmo': LogisticRegression(C=0.75, n_job...                NaN   \n",
       "1   {'algoritmo': LogisticRegression(C=0.75, n_job...                NaN   \n",
       "0   {'algoritmo': LogisticRegression(C=0.75, n_job...                NaN   \n",
       "\n",
       "    split1_test_score  split2_test_score  mean_test_score  std_test_score  \\\n",
       "15               0.85               0.86             0.86            0.01   \n",
       "7                0.85               0.86             0.86            0.01   \n",
       "19               0.85               0.86             0.86            0.01   \n",
       "11               0.85               0.86             0.86            0.01   \n",
       "17               0.85               0.86             0.86            0.00   \n",
       "13               0.85               0.86             0.86            0.00   \n",
       "9                0.85               0.86             0.86            0.00   \n",
       "18               0.85               0.86             0.86            0.00   \n",
       "5                0.85               0.86             0.85            0.00   \n",
       "14               0.85               0.86             0.85            0.00   \n",
       "10               0.85               0.85             0.85            0.00   \n",
       "6                0.85               0.85             0.85            0.00   \n",
       "8                 NaN                NaN              NaN             NaN   \n",
       "4                 NaN                NaN              NaN             NaN   \n",
       "12                NaN                NaN              NaN             NaN   \n",
       "3                 NaN                NaN              NaN             NaN   \n",
       "2                 NaN                NaN              NaN             NaN   \n",
       "16                NaN                NaN              NaN             NaN   \n",
       "1                 NaN                NaN              NaN             NaN   \n",
       "0                 NaN                NaN              NaN             NaN   \n",
       "\n",
       "    rank_test_score  \n",
       "15                1  \n",
       "7                 2  \n",
       "19                3  \n",
       "11                4  \n",
       "17                5  \n",
       "13                6  \n",
       "9                 7  \n",
       "18                8  \n",
       "5                 9  \n",
       "14               10  \n",
       "10               11  \n",
       "6                12  \n",
       "8                13  \n",
       "4                13  \n",
       "12               13  \n",
       "3                13  \n",
       "2                13  \n",
       "16               13  \n",
       "1                13  \n",
       "0                13  "
      ]
     },
     "execution_count": 35,
     "metadata": {},
     "output_type": "execute_result"
    }
   ],
   "source": [
    "grid_search = GridSearchCV(estimator= pipe, \n",
    "                            param_grid = grid, \n",
    "                            cv = 3, \n",
    "                            scoring = 'roc_auc',\n",
    "                            verbose = 0,\n",
    "                            n_jobs = -1)\n",
    "\n",
    "modelo = grid_search.fit(train_x,train_y)\n",
    "\n",
    "pd.DataFrame(grid_search.cv_results_).sort_values(by = 'rank_test_score')"
   ]
  },
  {
   "cell_type": "markdown",
   "id": "25d8aecf",
   "metadata": {},
   "source": [
    "####  Con random search"
   ]
  },
  {
   "cell_type": "code",
   "execution_count": 11,
   "id": "dcef4ab4",
   "metadata": {},
   "outputs": [],
   "source": [
    "#random_search = RandomizedSearchCV(estimator = pipe,\n",
    "#                                   param_distributions = grid, \n",
    "#                                   n_iter = 5, \n",
    "#                                   cv = 3, \n",
    "#                                   scoring = 'roc_auc', \n",
    "#                                   verbose = 0,\n",
    "#                                   n_jobs = -1)\n",
    "\n",
    "#modelo = random_search.fit(train_x,train_y)\n",
    "\n",
    "#pd.DataFrame(random_search.cv_results_).sort_values(by = 'rank_test_score')"
   ]
  },
  {
   "cell_type": "markdown",
   "id": "fd6f59ab",
   "metadata": {},
   "source": [
    "## EVALUAR"
   ]
  },
  {
   "cell_type": "markdown",
   "id": "90ac986a",
   "metadata": {},
   "source": [
    "### Predecir sobre validación"
   ]
  },
  {
   "cell_type": "code",
   "execution_count": 36,
   "id": "ca079478",
   "metadata": {},
   "outputs": [],
   "source": [
    "pred = modelo.best_estimator_.predict_proba(val_x)[:, 1]"
   ]
  },
  {
   "cell_type": "markdown",
   "id": "fe9fb9a1",
   "metadata": {},
   "source": [
    "### Evaluar sobre validación"
   ]
  },
  {
   "cell_type": "code",
   "execution_count": 37,
   "id": "f249d6b8",
   "metadata": {},
   "outputs": [
    {
     "data": {
      "text/plain": [
       "0.8726588027453371"
      ]
     },
     "execution_count": 37,
     "metadata": {},
     "output_type": "execute_result"
    }
   ],
   "source": [
    "roc_auc_score(val_y, pred)"
   ]
  },
  {
   "cell_type": "markdown",
   "id": "87d46a1d",
   "metadata": {},
   "source": [
    "### Examinar el mejor modelo"
   ]
  },
  {
   "cell_type": "code",
   "execution_count": 38,
   "id": "f32990c1",
   "metadata": {},
   "outputs": [
    {
     "data": {
      "text/html": [
       "<style>#sk-container-id-3 {color: black;background-color: white;}#sk-container-id-3 pre{padding: 0;}#sk-container-id-3 div.sk-toggleable {background-color: white;}#sk-container-id-3 label.sk-toggleable__label {cursor: pointer;display: block;width: 100%;margin-bottom: 0;padding: 0.3em;box-sizing: border-box;text-align: center;}#sk-container-id-3 label.sk-toggleable__label-arrow:before {content: \"▸\";float: left;margin-right: 0.25em;color: #696969;}#sk-container-id-3 label.sk-toggleable__label-arrow:hover:before {color: black;}#sk-container-id-3 div.sk-estimator:hover label.sk-toggleable__label-arrow:before {color: black;}#sk-container-id-3 div.sk-toggleable__content {max-height: 0;max-width: 0;overflow: hidden;text-align: left;background-color: #f0f8ff;}#sk-container-id-3 div.sk-toggleable__content pre {margin: 0.2em;color: black;border-radius: 0.25em;background-color: #f0f8ff;}#sk-container-id-3 input.sk-toggleable__control:checked~div.sk-toggleable__content {max-height: 200px;max-width: 100%;overflow: auto;}#sk-container-id-3 input.sk-toggleable__control:checked~label.sk-toggleable__label-arrow:before {content: \"▾\";}#sk-container-id-3 div.sk-estimator input.sk-toggleable__control:checked~label.sk-toggleable__label {background-color: #d4ebff;}#sk-container-id-3 div.sk-label input.sk-toggleable__control:checked~label.sk-toggleable__label {background-color: #d4ebff;}#sk-container-id-3 input.sk-hidden--visually {border: 0;clip: rect(1px 1px 1px 1px);clip: rect(1px, 1px, 1px, 1px);height: 1px;margin: -1px;overflow: hidden;padding: 0;position: absolute;width: 1px;}#sk-container-id-3 div.sk-estimator {font-family: monospace;background-color: #f0f8ff;border: 1px dotted black;border-radius: 0.25em;box-sizing: border-box;margin-bottom: 0.5em;}#sk-container-id-3 div.sk-estimator:hover {background-color: #d4ebff;}#sk-container-id-3 div.sk-parallel-item::after {content: \"\";width: 100%;border-bottom: 1px solid gray;flex-grow: 1;}#sk-container-id-3 div.sk-label:hover label.sk-toggleable__label {background-color: #d4ebff;}#sk-container-id-3 div.sk-serial::before {content: \"\";position: absolute;border-left: 1px solid gray;box-sizing: border-box;top: 0;bottom: 0;left: 50%;z-index: 0;}#sk-container-id-3 div.sk-serial {display: flex;flex-direction: column;align-items: center;background-color: white;padding-right: 0.2em;padding-left: 0.2em;position: relative;}#sk-container-id-3 div.sk-item {position: relative;z-index: 1;}#sk-container-id-3 div.sk-parallel {display: flex;align-items: stretch;justify-content: center;background-color: white;position: relative;}#sk-container-id-3 div.sk-item::before, #sk-container-id-3 div.sk-parallel-item::before {content: \"\";position: absolute;border-left: 1px solid gray;box-sizing: border-box;top: 0;bottom: 0;left: 50%;z-index: -1;}#sk-container-id-3 div.sk-parallel-item {display: flex;flex-direction: column;z-index: 1;position: relative;background-color: white;}#sk-container-id-3 div.sk-parallel-item:first-child::after {align-self: flex-end;width: 50%;}#sk-container-id-3 div.sk-parallel-item:last-child::after {align-self: flex-start;width: 50%;}#sk-container-id-3 div.sk-parallel-item:only-child::after {width: 0;}#sk-container-id-3 div.sk-dashed-wrapped {border: 1px dashed gray;margin: 0 0.4em 0.5em 0.4em;box-sizing: border-box;padding-bottom: 0.4em;background-color: white;}#sk-container-id-3 div.sk-label label {font-family: monospace;font-weight: bold;display: inline-block;line-height: 1.2em;}#sk-container-id-3 div.sk-label-container {text-align: center;}#sk-container-id-3 div.sk-container {/* jupyter's `normalize.less` sets `[hidden] { display: none; }` but bootstrap.min.css set `[hidden] { display: none !important; }` so we also need the `!important` here to be able to override the default hidden behavior on the sphinx rendered scikit-learn.org. See: https://github.com/scikit-learn/scikit-learn/issues/21755 */display: inline-block !important;position: relative;}#sk-container-id-3 div.sk-text-repr-fallback {display: none;}</style><div id=\"sk-container-id-3\" class=\"sk-top-container\"><div class=\"sk-text-repr-fallback\"><pre>Pipeline(steps=[(&#x27;algoritmo&#x27;,\n",
       "                 LogisticRegression(C=0.75, n_jobs=-1, penalty=&#x27;none&#x27;,\n",
       "                                    solver=&#x27;saga&#x27;))])</pre><b>In a Jupyter environment, please rerun this cell to show the HTML representation or trust the notebook. <br />On GitHub, the HTML representation is unable to render, please try loading this page with nbviewer.org.</b></div><div class=\"sk-container\" hidden><div class=\"sk-item sk-dashed-wrapped\"><div class=\"sk-label-container\"><div class=\"sk-label sk-toggleable\"><input class=\"sk-toggleable__control sk-hidden--visually\" id=\"sk-estimator-id-5\" type=\"checkbox\" ><label for=\"sk-estimator-id-5\" class=\"sk-toggleable__label sk-toggleable__label-arrow\">Pipeline</label><div class=\"sk-toggleable__content\"><pre>Pipeline(steps=[(&#x27;algoritmo&#x27;,\n",
       "                 LogisticRegression(C=0.75, n_jobs=-1, penalty=&#x27;none&#x27;,\n",
       "                                    solver=&#x27;saga&#x27;))])</pre></div></div></div><div class=\"sk-serial\"><div class=\"sk-item\"><div class=\"sk-estimator sk-toggleable\"><input class=\"sk-toggleable__control sk-hidden--visually\" id=\"sk-estimator-id-6\" type=\"checkbox\" ><label for=\"sk-estimator-id-6\" class=\"sk-toggleable__label sk-toggleable__label-arrow\">LogisticRegression</label><div class=\"sk-toggleable__content\"><pre>LogisticRegression(C=0.75, n_jobs=-1, penalty=&#x27;none&#x27;, solver=&#x27;saga&#x27;)</pre></div></div></div></div></div></div></div>"
      ],
      "text/plain": [
       "Pipeline(steps=[('algoritmo',\n",
       "                 LogisticRegression(C=0.75, n_jobs=-1, penalty='none',\n",
       "                                    solver='saga'))])"
      ]
     },
     "execution_count": 38,
     "metadata": {},
     "output_type": "execute_result"
    }
   ],
   "source": [
    "modelo.best_estimator_"
   ]
  },
  {
   "cell_type": "markdown",
   "id": "d7a39797",
   "metadata": {},
   "source": [
    "Para ver cuales son las variables mas predictoras (coeficientes mas altos)"
   ]
  },
  {
   "cell_type": "code",
   "execution_count": 15,
   "id": "8a0441e1",
   "metadata": {},
   "outputs": [
    {
     "data": {
      "text/plain": [
       "array([[ 4.16381914,  8.18039792,  1.10591237,  1.45814164, -3.40759977,\n",
       "         2.17996394,  1.47983154, -0.56567589, -1.40912983, -1.28858503,\n",
       "        -0.8814185 , -0.85416441,  0.61772416,  0.07169642]])"
      ]
     },
     "execution_count": 15,
     "metadata": {},
     "output_type": "execute_result"
    }
   ],
   "source": [
    "modelo.best_estimator_.named_steps.algoritmo.coef_"
   ]
  },
  {
   "cell_type": "code",
   "execution_count": 16,
   "id": "83ec5acb",
   "metadata": {},
   "outputs": [
    {
     "data": {
      "text/plain": [
       "array(['tiempo_en_site_total_mms', 'score_actividad_mms',\n",
       "       'ult_actividad_SMS Sent', 'score_perfil_mms',\n",
       "       'paginas_vistas_visita_mms', 'visitas_total_mms',\n",
       "       'ocupacion_Working Professional', 'ambito_Select',\n",
       "       'ult_actividad_Converted to Lead',\n",
       "       'ult_actividad_Chat Conversation',\n",
       "       'ult_actividad_Page Visited on Website', 'ocupacion_Unemployed',\n",
       "       'descarga_lm_No', 'ambito_Marketing Management'], dtype=object)"
      ]
     },
     "execution_count": 16,
     "metadata": {},
     "output_type": "execute_result"
    }
   ],
   "source": [
    "modelo.best_estimator_.named_steps.algoritmo.feature_names_in_"
   ]
  },
  {
   "cell_type": "code",
   "execution_count": 23,
   "id": "f0813b8d",
   "metadata": {},
   "outputs": [
    {
     "data": {
      "text/html": [
       "<div>\n",
       "<style scoped>\n",
       "    .dataframe tbody tr th:only-of-type {\n",
       "        vertical-align: middle;\n",
       "    }\n",
       "\n",
       "    .dataframe tbody tr th {\n",
       "        vertical-align: top;\n",
       "    }\n",
       "\n",
       "    .dataframe thead th {\n",
       "        text-align: right;\n",
       "    }\n",
       "</style>\n",
       "<table border=\"1\" class=\"dataframe\">\n",
       "  <thead>\n",
       "    <tr style=\"text-align: right;\">\n",
       "      <th></th>\n",
       "      <th>0</th>\n",
       "    </tr>\n",
       "  </thead>\n",
       "  <tbody>\n",
       "    <tr>\n",
       "      <th>tiempo_en_site_total_mms</th>\n",
       "      <td>4.16</td>\n",
       "    </tr>\n",
       "    <tr>\n",
       "      <th>score_actividad_mms</th>\n",
       "      <td>8.18</td>\n",
       "    </tr>\n",
       "    <tr>\n",
       "      <th>ult_actividad_SMS Sent</th>\n",
       "      <td>1.11</td>\n",
       "    </tr>\n",
       "    <tr>\n",
       "      <th>score_perfil_mms</th>\n",
       "      <td>1.46</td>\n",
       "    </tr>\n",
       "    <tr>\n",
       "      <th>paginas_vistas_visita_mms</th>\n",
       "      <td>3.41</td>\n",
       "    </tr>\n",
       "    <tr>\n",
       "      <th>visitas_total_mms</th>\n",
       "      <td>2.18</td>\n",
       "    </tr>\n",
       "    <tr>\n",
       "      <th>ocupacion_Working Professional</th>\n",
       "      <td>1.48</td>\n",
       "    </tr>\n",
       "    <tr>\n",
       "      <th>ambito_Select</th>\n",
       "      <td>0.57</td>\n",
       "    </tr>\n",
       "    <tr>\n",
       "      <th>ult_actividad_Converted to Lead</th>\n",
       "      <td>1.41</td>\n",
       "    </tr>\n",
       "    <tr>\n",
       "      <th>ult_actividad_Chat Conversation</th>\n",
       "      <td>1.29</td>\n",
       "    </tr>\n",
       "    <tr>\n",
       "      <th>ult_actividad_Page Visited on Website</th>\n",
       "      <td>0.88</td>\n",
       "    </tr>\n",
       "    <tr>\n",
       "      <th>ocupacion_Unemployed</th>\n",
       "      <td>0.85</td>\n",
       "    </tr>\n",
       "    <tr>\n",
       "      <th>descarga_lm_No</th>\n",
       "      <td>0.62</td>\n",
       "    </tr>\n",
       "    <tr>\n",
       "      <th>ambito_Marketing Management</th>\n",
       "      <td>0.07</td>\n",
       "    </tr>\n",
       "  </tbody>\n",
       "</table>\n",
       "</div>"
      ],
      "text/plain": [
       "                                         0\n",
       "tiempo_en_site_total_mms              4.16\n",
       "score_actividad_mms                   8.18\n",
       "ult_actividad_SMS Sent                1.11\n",
       "score_perfil_mms                      1.46\n",
       "paginas_vistas_visita_mms             3.41\n",
       "visitas_total_mms                     2.18\n",
       "ocupacion_Working Professional        1.48\n",
       "ambito_Select                         0.57\n",
       "ult_actividad_Converted to Lead       1.41\n",
       "ult_actividad_Chat Conversation       1.29\n",
       "ult_actividad_Page Visited on Website 0.88\n",
       "ocupacion_Unemployed                  0.85\n",
       "descarga_lm_No                        0.62\n",
       "ambito_Marketing Management           0.07"
      ]
     },
     "execution_count": 23,
     "metadata": {},
     "output_type": "execute_result"
    }
   ],
   "source": [
    "pd.DataFrame(data = abs(modelo.best_estimator_.named_steps.algoritmo.coef_),\n",
    "            columns = modelo.best_estimator_.named_steps.algoritmo.feature_names_in_).T"
   ]
  },
  {
   "cell_type": "markdown",
   "id": "f2848960",
   "metadata": {},
   "source": [
    "## REPORTING DEL MODELO"
   ]
  },
  {
   "cell_type": "markdown",
   "id": "e25e2c94",
   "metadata": {},
   "source": [
    "### Gain Chart"
   ]
  },
  {
   "cell_type": "code",
   "execution_count": 24,
   "id": "f6391cc4",
   "metadata": {},
   "outputs": [
    {
     "data": {
      "image/png": "[encoded data removed]",
      "text/plain": [
       "<Figure size 640x480 with 1 Axes>"
      ]
     },
     "metadata": {},
     "output_type": "display_data"
    }
   ],
   "source": [
    "fig, ax = plt.subplots()\n",
    "\n",
    "skplt.metrics.plot_cumulative_gain(val_y, modelo.best_estimator_.predict_proba(val_x), ax=ax) \n",
    "\n",
    "# Eliminamos la línea de los ceros, que internamente tiene etiqueta 'Class 0'\n",
    "lines = ax.get_lines()\n",
    "# Buscar por la etiqueta y eliminar la línea correspondiente\n",
    "for line in lines:\n",
    "    if line.get_label() == 'Class 0':\n",
    "        line.remove()\n",
    "\n",
    "# Personalizamos la leyenda sin incluir la línea de los ceros\n",
    "plt.legend(labels=['Modelo'])\n",
    "\n",
    "# Ahora puedes mostrar el gráfico\n",
    "plt.show()"
   ]
  },
  {
   "cell_type": "markdown",
   "id": "148a74a7",
   "metadata": {},
   "source": [
    "### Lift Chart"
   ]
  },
  {
   "cell_type": "code",
   "execution_count": 25,
   "id": "5d56a4b8-b118-4f59-87e6-2617b50b8a11",
   "metadata": {},
   "outputs": [
    {
     "data": {
      "image/png": "[encoded data removed]",
      "text/plain": [
       "<Figure size 640x480 with 1 Axes>"
      ]
     },
     "metadata": {},
     "output_type": "display_data"
    }
   ],
   "source": [
    "fig, ax = plt.subplots()\n",
    "\n",
    "skplt.metrics.plot_lift_curve(val_y, modelo.best_estimator_.predict_proba(val_x), ax=ax) \n",
    "\n",
    "# Eliminamos la línea de los ceros, que internamente tiene etiqueta 'Class 0'\n",
    "lines = ax.get_lines()\n",
    "# Buscar por la etiqueta y eliminar la línea correspondiente\n",
    "for line in lines:\n",
    "    if line.get_label() == 'Class 0':\n",
    "        line.remove()\n",
    "\n",
    "# Personalizamos la leyenda sin incluir la línea de los ceros\n",
    "plt.legend(labels=['Modelo'])\n",
    "\n",
    "# Ahora puedes mostrar el gráfico\n",
    "plt.show()"
   ]
  },
  {
   "cell_type": "markdown",
   "id": "b0f64e40",
   "metadata": {},
   "source": [
    "### ROC Chart"
   ]
  },
  {
   "cell_type": "code",
   "execution_count": 26,
   "id": "db7b53f4",
   "metadata": {},
   "outputs": [
    {
     "data": {
      "image/png": "[encoded data removed]",
      "text/plain": [
       "<Figure size 640x480 with 1 Axes>"
      ]
     },
     "metadata": {},
     "output_type": "display_data"
    }
   ],
   "source": [
    "fig, ax = plt.subplots()\n",
    "\n",
    "# Generamos la gráfica ROC\n",
    "skplt.metrics.plot_roc(val_y, modelo.best_estimator_.predict_proba(val_x), ax=ax)\n",
    "\n",
    "# Obtenemos todas las líneas y las leyendas\n",
    "lines = ax.get_lines()\n",
    "\n",
    "# Recorremos las líneas para eliminar las no deseadas, excepto la línea de la clase 0\n",
    "for line in lines:\n",
    "    if 'ROC curve of class 0' in line.get_label():\n",
    "        line.set_label('Modelo')\n",
    "    elif line.get_linestyle() != '--':  # Mantenemos la línea punteada pero sin leyenda\n",
    "        line.set_visible(False)\n",
    "\n",
    "# Solo añadimos al leyenda la línea de la clase 0 renombrada a 'Modelo'\n",
    "handles, labels = ax.get_legend_handles_labels()\n",
    "new_handles = [h for h, l in zip(handles, labels) if l == 'Modelo']\n",
    "new_labels = ['Modelo']\n",
    "\n",
    "ax.legend(new_handles, new_labels, loc='best')\n",
    "\n",
    "# Ahora puedes mostrar el gráfico\n",
    "plt.show();\n"
   ]
  },
  {
   "cell_type": "code",
   "execution_count": null,
   "id": "89ecee4c",
   "metadata": {},
   "outputs": [],
   "source": []
  }
 ],
 "metadata": {
  "kernelspec": {
   "display_name": "Python 3 (ipykernel)",
   "language": "python",
   "name": "python3"
  },
  "language_info": {
   "codemirror_mode": {
    "name": "ipython",
    "version": 3
   },
   "file_extension": ".py",
   "mimetype": "text/x-python",
   "name": "python",
   "nbconvert_exporter": "python",
   "pygments_lexer": "ipython3",
   "version": "3.11.8"
  },
  "toc": {
   "base_numbering": 1,
   "nav_menu": {},
   "number_sections": true,
   "sideBar": true,
   "skip_h1_title": false,
   "title_cell": "Table of Contents",
   "title_sidebar": "Contents",
   "toc_cell": false,
   "toc_position": {
    "height": "calc(100% - 180px)",
    "left": "10px",
    "top": "150px",
    "width": "165px"
   },
   "toc_section_display": true,
   "toc_window_display": true
  },
  "varInspector": {
   "cols": {
    "lenName": 16,
    "lenType": 16,
    "lenVar": 40
   },
   "kernels_config": {
    "python": {
     "delete_cmd_postfix": "",
     "delete_cmd_prefix": "del ",
     "library": "var_list.py",
     "varRefreshCmd": "print(var_dic_list())"
    },
    "r": {
     "delete_cmd_postfix": ") ",
     "delete_cmd_prefix": "rm(",
     "library": "var_list.r",
     "varRefreshCmd": "cat(var_dic_list()) "
    }
   },
   "position": {
    "height": "546.85px",
    "left": "1531.75px",
    "right": "20px",
    "top": "115px",
    "width": "350px"
   },
   "types_to_exclude": [
    "module",
    "function",
    "builtin_function_or_method",
    "instance",
    "_Feature"
   ],
   "window_display": false
  }
 },
 "nbformat": 4,
 "nbformat_minor": 5
}
