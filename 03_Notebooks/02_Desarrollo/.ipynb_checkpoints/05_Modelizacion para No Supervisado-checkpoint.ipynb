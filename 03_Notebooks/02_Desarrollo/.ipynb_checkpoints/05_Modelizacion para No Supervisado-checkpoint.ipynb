{
 "cells": [
  {
   "cell_type": "markdown",
   "id": "d31dea65",
   "metadata": {},
   "source": [
    "# MODELIZACIÓN PARA NO SUPERVISADO"
   ]
  },
  {
   "cell_type": "markdown",
   "id": "swiss-fault",
   "metadata": {},
   "source": [
    "## IMPORTAR PAQUETES"
   ]
  },
  {
   "cell_type": "code",
   "execution_count": 1,
   "id": "adjacent-toddler",
   "metadata": {},
   "outputs": [],
   "source": [
    "import numpy as np\n",
    "import pandas as pd\n",
    "import matplotlib.pyplot as plt\n",
    "%matplotlib inline\n",
    "import seaborn as sns\n",
    "\n",
    "from sklearn.model_selection import train_test_split\n",
    "\n",
    "from sklearn.cluster import KMeans\n",
    "from sklearn.metrics import silhouette_score\n",
    "from sklearn.metrics import calinski_harabasz_score\n",
    "from sklearn.metrics import davies_bouldin_score\n",
    "\n",
    "from sklearn.model_selection import GridSearchCV\n",
    "\n",
    "#Autocompletar rápido\n",
    "%config IPCompleter.greedy=True\n",
    "\n",
    "#Desactivar la notación científica\n",
    "pd.options.display.float_format = '{:.2f}'.format\n",
    "\n",
    "#Desactivar los warnings\n",
    "import warnings\n",
    "warnings.filterwarnings(\"ignore\")"
   ]
  },
  {
   "cell_type": "markdown",
   "id": "graduate-compensation",
   "metadata": {},
   "source": [
    "## IMPORTAR LOS DATOS"
   ]
  },
  {
   "cell_type": "markdown",
   "id": "3a5b94ef",
   "metadata": {},
   "source": [
    "Sustituir la ruta del proyecto."
   ]
  },
  {
   "cell_type": "code",
   "execution_count": 2,
   "id": "f9d2de58",
   "metadata": {},
   "outputs": [],
   "source": [
    "ruta_proyecto = 'C:/Usuarios/Alfredo/DS4B/Python DS Mastery/EstructuraDirectorio/03_MACHINE_LEARNING/07_CASOS/01_LEADSCORING'"
   ]
  },
  {
   "cell_type": "markdown",
   "id": "c3363765",
   "metadata": {},
   "source": [
    "Nombres de los ficheros de datos."
   ]
  },
  {
   "cell_type": "code",
   "execution_count": 3,
   "id": "a9e2e04a",
   "metadata": {},
   "outputs": [],
   "source": [
    "nombre_x = 'df_tablon.pickle'"
   ]
  },
  {
   "cell_type": "markdown",
   "id": "b9825018",
   "metadata": {},
   "source": [
    "Cargar los datos."
   ]
  },
  {
   "cell_type": "code",
   "execution_count": 4,
   "id": "cab6ebcd",
   "metadata": {},
   "outputs": [],
   "source": [
    "df = pd.read_pickle(ruta_proyecto + '/02_Datos/03_Trabajo/' + nombre_x)"
   ]
  },
  {
   "cell_type": "markdown",
   "id": "9790d322",
   "metadata": {},
   "source": [
    "## MODELIZAR"
   ]
  },
  {
   "cell_type": "markdown",
   "id": "53bd4ad6",
   "metadata": {},
   "source": [
    "### Crear el espacio de soluciones"
   ]
  },
  {
   "cell_type": "code",
   "execution_count": 6,
   "id": "eeaa3ea1",
   "metadata": {},
   "outputs": [],
   "source": [
    "min_k = 3\n",
    "max_k = 7\n",
    "\n",
    "soluciones = list(range(min_k,max_k))"
   ]
  },
  {
   "cell_type": "markdown",
   "id": "1f836ca9",
   "metadata": {},
   "source": [
    "### Crear listas para guardar la salida de cada métrica"
   ]
  },
  {
   "cell_type": "code",
   "execution_count": 7,
   "id": "cfb75560",
   "metadata": {},
   "outputs": [],
   "source": [
    "codo = []\n",
    "silueta = []\n",
    "calins = []\n",
    "davies = []"
   ]
  },
  {
   "cell_type": "markdown",
   "id": "159b78b6",
   "metadata": {},
   "source": [
    "### Analizar el espacio de soluciones"
   ]
  },
  {
   "cell_type": "code",
   "execution_count": 8,
   "id": "4b2f40be",
   "metadata": {},
   "outputs": [],
   "source": [
    "for solucion in soluciones:\n",
    "    \n",
    "    #Instanciar\n",
    "    cluster = KMeans(n_clusters = solucion, n_init=10)\n",
    "    \n",
    "    #Entrenar\n",
    "    cluster.fit(df)\n",
    "    \n",
    "    #Recoger las métricas\n",
    "    codo.append(cluster.inertia_)\n",
    "    silueta.append(silhouette_score(df, cluster.labels_))\n",
    "    calins.append(calinski_harabasz_score(df, cluster.labels_))\n",
    "    davies.append(davies_bouldin_score(df, cluster.labels_))"
   ]
  },
  {
   "cell_type": "markdown",
   "id": "eaa2acf8",
   "metadata": {},
   "source": [
    "### Identificar la mejor solucion"
   ]
  },
  {
   "cell_type": "markdown",
   "id": "ba26fca9",
   "metadata": {},
   "source": [
    "#### Analizar las métricas"
   ]
  },
  {
   "cell_type": "code",
   "execution_count": 9,
   "id": "30f9904f",
   "metadata": {},
   "outputs": [
    {
     "data": {
      "text/html": [
       "<div>\n",
       "<style scoped>\n",
       "    .dataframe tbody tr th:only-of-type {\n",
       "        vertical-align: middle;\n",
       "    }\n",
       "\n",
       "    .dataframe tbody tr th {\n",
       "        vertical-align: top;\n",
       "    }\n",
       "\n",
       "    .dataframe thead th {\n",
       "        text-align: right;\n",
       "    }\n",
       "</style>\n",
       "<table border=\"1\" class=\"dataframe\">\n",
       "  <thead>\n",
       "    <tr style=\"text-align: right;\">\n",
       "      <th></th>\n",
       "      <th>Codo</th>\n",
       "      <th>Silueta</th>\n",
       "      <th>Calins</th>\n",
       "      <th>Davies</th>\n",
       "    </tr>\n",
       "    <tr>\n",
       "      <th>Solucion</th>\n",
       "      <th></th>\n",
       "      <th></th>\n",
       "      <th></th>\n",
       "      <th></th>\n",
       "    </tr>\n",
       "  </thead>\n",
       "  <tbody>\n",
       "    <tr>\n",
       "      <th>3</th>\n",
       "      <td>13059.47</td>\n",
       "      <td>0.19</td>\n",
       "      <td>998.99</td>\n",
       "      <td>2.06</td>\n",
       "    </tr>\n",
       "    <tr>\n",
       "      <th>4</th>\n",
       "      <td>12357.49</td>\n",
       "      <td>0.19</td>\n",
       "      <td>794.81</td>\n",
       "      <td>1.94</td>\n",
       "    </tr>\n",
       "    <tr>\n",
       "      <th>5</th>\n",
       "      <td>11708.42</td>\n",
       "      <td>0.17</td>\n",
       "      <td>695.71</td>\n",
       "      <td>2.06</td>\n",
       "    </tr>\n",
       "    <tr>\n",
       "      <th>6</th>\n",
       "      <td>11228.49</td>\n",
       "      <td>0.15</td>\n",
       "      <td>621.37</td>\n",
       "      <td>2.23</td>\n",
       "    </tr>\n",
       "  </tbody>\n",
       "</table>\n",
       "</div>"
      ],
      "text/plain": [
       "             Codo  Silueta  Calins  Davies\n",
       "Solucion                                  \n",
       "3        13059.47     0.19  998.99    2.06\n",
       "4        12357.49     0.19  794.81    1.94\n",
       "5        11708.42     0.17  695.71    2.06\n",
       "6        11228.49     0.15  621.37    2.23"
      ]
     },
     "execution_count": 9,
     "metadata": {},
     "output_type": "execute_result"
    }
   ],
   "source": [
    "metricas = pd.DataFrame({'Solucion':soluciones,\n",
    "              'Codo': codo,\n",
    "              'Silueta':silueta,\n",
    "              'Calins':calins,           \n",
    "              'Davies':davies}).set_index('Solucion')\n",
    "\n",
    "metricas"
   ]
  },
  {
   "cell_type": "markdown",
   "id": "1f5164a5",
   "metadata": {},
   "source": [
    "#### Analizar los gráficos"
   ]
  },
  {
   "cell_type": "code",
   "execution_count": 10,
   "id": "16a81e6d",
   "metadata": {
    "scrolled": true
   },
   "outputs": [
    {
     "data": {
      "image/png": "[encoded data removed]",
      "text/plain": [
       "<Figure size 1200x800 with 4 Axes>"
      ]
     },
     "metadata": {},
     "output_type": "display_data"
    }
   ],
   "source": [
    "metricas.plot(subplots = True, figsize = (12,8), layout = (2,2), sharex = False);"
   ]
  },
  {
   "cell_type": "markdown",
   "id": "99e34c6f",
   "metadata": {},
   "source": [
    "### Segmentación final con la mejor solucion"
   ]
  },
  {
   "cell_type": "code",
   "execution_count": 12,
   "id": "3ebc920f",
   "metadata": {},
   "outputs": [
    {
     "data": {
      "text/html": [
       "<style>#sk-container-id-1 {color: black;background-color: white;}#sk-container-id-1 pre{padding: 0;}#sk-container-id-1 div.sk-toggleable {background-color: white;}#sk-container-id-1 label.sk-toggleable__label {cursor: pointer;display: block;width: 100%;margin-bottom: 0;padding: 0.3em;box-sizing: border-box;text-align: center;}#sk-container-id-1 label.sk-toggleable__label-arrow:before {content: \"▸\";float: left;margin-right: 0.25em;color: #696969;}#sk-container-id-1 label.sk-toggleable__label-arrow:hover:before {color: black;}#sk-container-id-1 div.sk-estimator:hover label.sk-toggleable__label-arrow:before {color: black;}#sk-container-id-1 div.sk-toggleable__content {max-height: 0;max-width: 0;overflow: hidden;text-align: left;background-color: #f0f8ff;}#sk-container-id-1 div.sk-toggleable__content pre {margin: 0.2em;color: black;border-radius: 0.25em;background-color: #f0f8ff;}#sk-container-id-1 input.sk-toggleable__control:checked~div.sk-toggleable__content {max-height: 200px;max-width: 100%;overflow: auto;}#sk-container-id-1 input.sk-toggleable__control:checked~label.sk-toggleable__label-arrow:before {content: \"▾\";}#sk-container-id-1 div.sk-estimator input.sk-toggleable__control:checked~label.sk-toggleable__label {background-color: #d4ebff;}#sk-container-id-1 div.sk-label input.sk-toggleable__control:checked~label.sk-toggleable__label {background-color: #d4ebff;}#sk-container-id-1 input.sk-hidden--visually {border: 0;clip: rect(1px 1px 1px 1px);clip: rect(1px, 1px, 1px, 1px);height: 1px;margin: -1px;overflow: hidden;padding: 0;position: absolute;width: 1px;}#sk-container-id-1 div.sk-estimator {font-family: monospace;background-color: #f0f8ff;border: 1px dotted black;border-radius: 0.25em;box-sizing: border-box;margin-bottom: 0.5em;}#sk-container-id-1 div.sk-estimator:hover {background-color: #d4ebff;}#sk-container-id-1 div.sk-parallel-item::after {content: \"\";width: 100%;border-bottom: 1px solid gray;flex-grow: 1;}#sk-container-id-1 div.sk-label:hover label.sk-toggleable__label {background-color: #d4ebff;}#sk-container-id-1 div.sk-serial::before {content: \"\";position: absolute;border-left: 1px solid gray;box-sizing: border-box;top: 0;bottom: 0;left: 50%;z-index: 0;}#sk-container-id-1 div.sk-serial {display: flex;flex-direction: column;align-items: center;background-color: white;padding-right: 0.2em;padding-left: 0.2em;position: relative;}#sk-container-id-1 div.sk-item {position: relative;z-index: 1;}#sk-container-id-1 div.sk-parallel {display: flex;align-items: stretch;justify-content: center;background-color: white;position: relative;}#sk-container-id-1 div.sk-item::before, #sk-container-id-1 div.sk-parallel-item::before {content: \"\";position: absolute;border-left: 1px solid gray;box-sizing: border-box;top: 0;bottom: 0;left: 50%;z-index: -1;}#sk-container-id-1 div.sk-parallel-item {display: flex;flex-direction: column;z-index: 1;position: relative;background-color: white;}#sk-container-id-1 div.sk-parallel-item:first-child::after {align-self: flex-end;width: 50%;}#sk-container-id-1 div.sk-parallel-item:last-child::after {align-self: flex-start;width: 50%;}#sk-container-id-1 div.sk-parallel-item:only-child::after {width: 0;}#sk-container-id-1 div.sk-dashed-wrapped {border: 1px dashed gray;margin: 0 0.4em 0.5em 0.4em;box-sizing: border-box;padding-bottom: 0.4em;background-color: white;}#sk-container-id-1 div.sk-label label {font-family: monospace;font-weight: bold;display: inline-block;line-height: 1.2em;}#sk-container-id-1 div.sk-label-container {text-align: center;}#sk-container-id-1 div.sk-container {/* jupyter's `normalize.less` sets `[hidden] { display: none; }` but bootstrap.min.css set `[hidden] { display: none !important; }` so we also need the `!important` here to be able to override the default hidden behavior on the sphinx rendered scikit-learn.org. See: https://github.com/scikit-learn/scikit-learn/issues/21755 */display: inline-block !important;position: relative;}#sk-container-id-1 div.sk-text-repr-fallback {display: none;}</style><div id=\"sk-container-id-1\" class=\"sk-top-container\"><div class=\"sk-text-repr-fallback\"><pre>KMeans(n_clusters=4, n_init=10)</pre><b>In a Jupyter environment, please rerun this cell to show the HTML representation or trust the notebook. <br />On GitHub, the HTML representation is unable to render, please try loading this page with nbviewer.org.</b></div><div class=\"sk-container\" hidden><div class=\"sk-item\"><div class=\"sk-estimator sk-toggleable\"><input class=\"sk-toggleable__control sk-hidden--visually\" id=\"sk-estimator-id-1\" type=\"checkbox\" checked><label for=\"sk-estimator-id-1\" class=\"sk-toggleable__label sk-toggleable__label-arrow\">KMeans</label><div class=\"sk-toggleable__content\"><pre>KMeans(n_clusters=4, n_init=10)</pre></div></div></div></div></div>"
      ],
      "text/plain": [
       "KMeans(n_clusters=4, n_init=10)"
      ]
     },
     "execution_count": 12,
     "metadata": {},
     "output_type": "execute_result"
    }
   ],
   "source": [
    "mejor_solucion = 4\n",
    "\n",
    "#Instanciar\n",
    "cluster = KMeans(n_clusters = mejor_solucion, n_init=10)\n",
    "    \n",
    "#Entrenar\n",
    "cluster.fit(df)"
   ]
  },
  {
   "cell_type": "markdown",
   "id": "fd6f59ab",
   "metadata": {},
   "source": [
    "## EVALUAR"
   ]
  },
  {
   "cell_type": "markdown",
   "id": "99827e53",
   "metadata": {},
   "source": [
    "Comprobar que los perfiles obtenidos en entrenamiento son similares a los objetidos al predecir sobre validación.\n",
    "\n",
    "Si pasa esto lo que nos dice es que la segmentación es estable."
   ]
  },
  {
   "cell_type": "markdown",
   "id": "90ac986a",
   "metadata": {},
   "source": [
    "### Calcular el segmento en entrenamiento y en validación"
   ]
  },
  {
   "cell_type": "code",
   "execution_count": 13,
   "id": "874aa873",
   "metadata": {},
   "outputs": [],
   "source": [
    "df['segmento'] = cluster.predict(df)"
   ]
  },
  {
   "cell_type": "markdown",
   "id": "87d46a1d",
   "metadata": {},
   "source": [
    "## PERFILAR LOS SEGMENTOS"
   ]
  },
  {
   "cell_type": "code",
   "execution_count": 15,
   "id": "f32990c1",
   "metadata": {
    "scrolled": true
   },
   "outputs": [
    {
     "data": {
      "text/html": [
       "<style type=\"text/css\">\n",
       "#T_26f4a_row0_col1, #T_26f4a_row1_col0, #T_26f4a_row2_col0, #T_26f4a_row3_col3, #T_26f4a_row4_col3, #T_26f4a_row5_col2, #T_26f4a_row6_col0, #T_26f4a_row7_col3, #T_26f4a_row8_col2, #T_26f4a_row9_col2, #T_26f4a_row10_col1, #T_26f4a_row11_col0, #T_26f4a_row12_col2, #T_26f4a_row13_col2, #T_26f4a_row14_col3, #T_26f4a_row15_col2, #T_26f4a_row16_col2, #T_26f4a_row17_col3, #T_26f4a_row18_col1, #T_26f4a_row19_col3, #T_26f4a_row20_col0, #T_26f4a_row21_col1, #T_26f4a_row22_col0, #T_26f4a_row23_col0, #T_26f4a_row24_col0, #T_26f4a_row25_col3, #T_26f4a_row26_col3, #T_26f4a_row27_col1, #T_26f4a_row28_col1, #T_26f4a_row29_col3, #T_26f4a_row30_col1, #T_26f4a_row31_col1, #T_26f4a_row32_col3, #T_26f4a_row33_col2, #T_26f4a_row34_col1, #T_26f4a_row35_col1, #T_26f4a_row36_col3, #T_26f4a_row37_col3, #T_26f4a_row38_col2, #T_26f4a_row39_col3, #T_26f4a_row40_col0, #T_26f4a_row41_col1, #T_26f4a_row42_col3 {\n",
       "  background-color: lightgreen;\n",
       "}\n",
       "#T_26f4a_row0_col3, #T_26f4a_row1_col3, #T_26f4a_row2_col3, #T_26f4a_row3_col0, #T_26f4a_row4_col2, #T_26f4a_row5_col0, #T_26f4a_row6_col2, #T_26f4a_row6_col3, #T_26f4a_row7_col0, #T_26f4a_row7_col1, #T_26f4a_row8_col1, #T_26f4a_row9_col0, #T_26f4a_row10_col3, #T_26f4a_row11_col1, #T_26f4a_row12_col0, #T_26f4a_row13_col3, #T_26f4a_row14_col0, #T_26f4a_row14_col1, #T_26f4a_row14_col2, #T_26f4a_row15_col1, #T_26f4a_row16_col3, #T_26f4a_row17_col0, #T_26f4a_row18_col2, #T_26f4a_row19_col1, #T_26f4a_row20_col3, #T_26f4a_row21_col2, #T_26f4a_row22_col2, #T_26f4a_row23_col2, #T_26f4a_row24_col2, #T_26f4a_row25_col2, #T_26f4a_row26_col2, #T_26f4a_row27_col2, #T_26f4a_row28_col3, #T_26f4a_row29_col2, #T_26f4a_row30_col2, #T_26f4a_row31_col2, #T_26f4a_row32_col2, #T_26f4a_row33_col1, #T_26f4a_row34_col2, #T_26f4a_row35_col2, #T_26f4a_row36_col1, #T_26f4a_row37_col0, #T_26f4a_row38_col3, #T_26f4a_row39_col2, #T_26f4a_row40_col1, #T_26f4a_row41_col0, #T_26f4a_row42_col2 {\n",
       "  background-color: red;\n",
       "}\n",
       "</style>\n",
       "<table id=\"T_26f4a\">\n",
       "  <thead>\n",
       "    <tr>\n",
       "      <th class=\"index_name level0\" >segmento</th>\n",
       "      <th id=\"T_26f4a_level0_col0\" class=\"col_heading level0 col0\" >0</th>\n",
       "      <th id=\"T_26f4a_level0_col1\" class=\"col_heading level0 col1\" >1</th>\n",
       "      <th id=\"T_26f4a_level0_col2\" class=\"col_heading level0 col2\" >2</th>\n",
       "      <th id=\"T_26f4a_level0_col3\" class=\"col_heading level0 col3\" >3</th>\n",
       "    </tr>\n",
       "  </thead>\n",
       "  <tbody>\n",
       "    <tr>\n",
       "      <th id=\"T_26f4a_level0_row0\" class=\"row_heading level0 row0\" >visitas_total_mms</th>\n",
       "      <td id=\"T_26f4a_row0_col0\" class=\"data row0 col0\" >0.092316</td>\n",
       "      <td id=\"T_26f4a_row0_col1\" class=\"data row0 col1\" >0.096156</td>\n",
       "      <td id=\"T_26f4a_row0_col2\" class=\"data row0 col2\" >0.066667</td>\n",
       "      <td id=\"T_26f4a_row0_col3\" class=\"data row0 col3\" >0.037068</td>\n",
       "    </tr>\n",
       "    <tr>\n",
       "      <th id=\"T_26f4a_level0_row1\" class=\"row_heading level0 row1\" >tiempo_en_site_total_mms</th>\n",
       "      <td id=\"T_26f4a_row1_col0\" class=\"data row1 col0\" >0.289163</td>\n",
       "      <td id=\"T_26f4a_row1_col1\" class=\"data row1 col1\" >0.287895</td>\n",
       "      <td id=\"T_26f4a_row1_col2\" class=\"data row1 col2\" >0.231666</td>\n",
       "      <td id=\"T_26f4a_row1_col3\" class=\"data row1 col3\" >0.229227</td>\n",
       "    </tr>\n",
       "    <tr>\n",
       "      <th id=\"T_26f4a_level0_row2\" class=\"row_heading level0 row2\" >paginas_vistas_visita_mms</th>\n",
       "      <td id=\"T_26f4a_row2_col0\" class=\"data row2 col0\" >0.229006</td>\n",
       "      <td id=\"T_26f4a_row2_col1\" class=\"data row2 col1\" >0.216337</td>\n",
       "      <td id=\"T_26f4a_row2_col2\" class=\"data row2 col2\" >0.145634</td>\n",
       "      <td id=\"T_26f4a_row2_col3\" class=\"data row2 col3\" >0.079151</td>\n",
       "    </tr>\n",
       "    <tr>\n",
       "      <th id=\"T_26f4a_level0_row3\" class=\"row_heading level0 row3\" >score_actividad_mms</th>\n",
       "      <td id=\"T_26f4a_row3_col0\" class=\"data row3 col0\" >0.634198</td>\n",
       "      <td id=\"T_26f4a_row3_col1\" class=\"data row3 col1\" >0.639796</td>\n",
       "      <td id=\"T_26f4a_row3_col2\" class=\"data row3 col2\" >0.647703</td>\n",
       "      <td id=\"T_26f4a_row3_col3\" class=\"data row3 col3\" >0.663015</td>\n",
       "    </tr>\n",
       "    <tr>\n",
       "      <th id=\"T_26f4a_level0_row4\" class=\"row_heading level0 row4\" >score_perfil_mms</th>\n",
       "      <td id=\"T_26f4a_row4_col0\" class=\"data row4 col0\" >0.646728</td>\n",
       "      <td id=\"T_26f4a_row4_col1\" class=\"data row4 col1\" >0.615751</td>\n",
       "      <td id=\"T_26f4a_row4_col2\" class=\"data row4 col2\" >0.482030</td>\n",
       "      <td id=\"T_26f4a_row4_col3\" class=\"data row4 col3\" >0.662685</td>\n",
       "    </tr>\n",
       "    <tr>\n",
       "      <th id=\"T_26f4a_level0_row5\" class=\"row_heading level0 row5\" >origen_API</th>\n",
       "      <td id=\"T_26f4a_row5_col0\" class=\"data row5 col0\" >0.000000</td>\n",
       "      <td id=\"T_26f4a_row5_col1\" class=\"data row5 col1\" >0.029748</td>\n",
       "      <td id=\"T_26f4a_row5_col2\" class=\"data row5 col2\" >0.977449</td>\n",
       "      <td id=\"T_26f4a_row5_col3\" class=\"data row5 col3\" >0.257329</td>\n",
       "    </tr>\n",
       "    <tr>\n",
       "      <th id=\"T_26f4a_level0_row6\" class=\"row_heading level0 row6\" >origen_Landing Page Submission</th>\n",
       "      <td id=\"T_26f4a_row6_col0\" class=\"data row6 col0\" >0.997022</td>\n",
       "      <td id=\"T_26f4a_row6_col1\" class=\"data row6 col1\" >0.970252</td>\n",
       "      <td id=\"T_26f4a_row6_col2\" class=\"data row6 col2\" >0.000000</td>\n",
       "      <td id=\"T_26f4a_row6_col3\" class=\"data row6 col3\" >0.000000</td>\n",
       "    </tr>\n",
       "    <tr>\n",
       "      <th id=\"T_26f4a_level0_row7\" class=\"row_heading level0 row7\" >origen_Lead Add Form</th>\n",
       "      <td id=\"T_26f4a_row7_col0\" class=\"data row7 col0\" >0.000000</td>\n",
       "      <td id=\"T_26f4a_row7_col1\" class=\"data row7 col1\" >0.000000</td>\n",
       "      <td id=\"T_26f4a_row7_col2\" class=\"data row7 col2\" >0.001409</td>\n",
       "      <td id=\"T_26f4a_row7_col3\" class=\"data row7 col3\" >0.723127</td>\n",
       "    </tr>\n",
       "    <tr>\n",
       "      <th id=\"T_26f4a_level0_row8\" class=\"row_heading level0 row8\" >origen_OTROS</th>\n",
       "      <td id=\"T_26f4a_row8_col0\" class=\"data row8 col0\" >0.002978</td>\n",
       "      <td id=\"T_26f4a_row8_col1\" class=\"data row8 col1\" >0.000000</td>\n",
       "      <td id=\"T_26f4a_row8_col2\" class=\"data row8 col2\" >0.021142</td>\n",
       "      <td id=\"T_26f4a_row8_col3\" class=\"data row8 col3\" >0.019544</td>\n",
       "    </tr>\n",
       "    <tr>\n",
       "      <th id=\"T_26f4a_level0_row9\" class=\"row_heading level0 row9\" >fuente_Chat</th>\n",
       "      <td id=\"T_26f4a_row9_col0\" class=\"data row9 col0\" >0.000000</td>\n",
       "      <td id=\"T_26f4a_row9_col1\" class=\"data row9 col1\" >0.016590</td>\n",
       "      <td id=\"T_26f4a_row9_col2\" class=\"data row9 col2\" >0.174066</td>\n",
       "      <td id=\"T_26f4a_row9_col3\" class=\"data row9 col3\" >0.074919</td>\n",
       "    </tr>\n",
       "    <tr>\n",
       "      <th id=\"T_26f4a_level0_row10\" class=\"row_heading level0 row10\" >fuente_Direct Traffic</th>\n",
       "      <td id=\"T_26f4a_row10_col0\" class=\"data row10 col0\" >0.207744</td>\n",
       "      <td id=\"T_26f4a_row10_col1\" class=\"data row10 col1\" >0.687643</td>\n",
       "      <td id=\"T_26f4a_row10_col2\" class=\"data row10 col2\" >0.038760</td>\n",
       "      <td id=\"T_26f4a_row10_col3\" class=\"data row10 col3\" >0.013029</td>\n",
       "    </tr>\n",
       "    <tr>\n",
       "      <th id=\"T_26f4a_level0_row11\" class=\"row_heading level0 row11\" >fuente_Google</th>\n",
       "      <td id=\"T_26f4a_row11_col0\" class=\"data row11 col0\" >0.711839</td>\n",
       "      <td id=\"T_26f4a_row11_col1\" class=\"data row11 col1\" >0.090961</td>\n",
       "      <td id=\"T_26f4a_row11_col2\" class=\"data row11 col2\" >0.515152</td>\n",
       "      <td id=\"T_26f4a_row11_col3\" class=\"data row11 col3\" >0.120521</td>\n",
       "    </tr>\n",
       "    <tr>\n",
       "      <th id=\"T_26f4a_level0_row12\" class=\"row_heading level0 row12\" >fuente_OTROS</th>\n",
       "      <td id=\"T_26f4a_row12_col0\" class=\"data row12 col0\" >0.007446</td>\n",
       "      <td id=\"T_26f4a_row12_col1\" class=\"data row12 col1\" >0.008581</td>\n",
       "      <td id=\"T_26f4a_row12_col2\" class=\"data row12 col2\" >0.072586</td>\n",
       "      <td id=\"T_26f4a_row12_col3\" class=\"data row12 col3\" >0.058632</td>\n",
       "    </tr>\n",
       "    <tr>\n",
       "      <th id=\"T_26f4a_level0_row13\" class=\"row_heading level0 row13\" >fuente_Organic Search</th>\n",
       "      <td id=\"T_26f4a_row13_col0\" class=\"data row13 col0\" >0.072971</td>\n",
       "      <td id=\"T_26f4a_row13_col1\" class=\"data row13 col1\" >0.196224</td>\n",
       "      <td id=\"T_26f4a_row13_col2\" class=\"data row13 col2\" >0.199436</td>\n",
       "      <td id=\"T_26f4a_row13_col3\" class=\"data row13 col3\" >0.045603</td>\n",
       "    </tr>\n",
       "    <tr>\n",
       "      <th id=\"T_26f4a_level0_row14\" class=\"row_heading level0 row14\" >fuente_Reference</th>\n",
       "      <td id=\"T_26f4a_row14_col0\" class=\"data row14 col0\" >0.000000</td>\n",
       "      <td id=\"T_26f4a_row14_col1\" class=\"data row14 col1\" >0.000000</td>\n",
       "      <td id=\"T_26f4a_row14_col2\" class=\"data row14 col2\" >0.000000</td>\n",
       "      <td id=\"T_26f4a_row14_col3\" class=\"data row14 col3\" >0.687296</td>\n",
       "    </tr>\n",
       "    <tr>\n",
       "      <th id=\"T_26f4a_level0_row15\" class=\"row_heading level0 row15\" >ult_actividad_Chat Conversation</th>\n",
       "      <td id=\"T_26f4a_row15_col0\" class=\"data row15 col0\" >0.017870</td>\n",
       "      <td id=\"T_26f4a_row15_col1\" class=\"data row15 col1\" >0.017162</td>\n",
       "      <td id=\"T_26f4a_row15_col2\" class=\"data row15 col2\" >0.149401</td>\n",
       "      <td id=\"T_26f4a_row15_col3\" class=\"data row15 col3\" >0.022801</td>\n",
       "    </tr>\n",
       "    <tr>\n",
       "      <th id=\"T_26f4a_level0_row16\" class=\"row_heading level0 row16\" >ult_actividad_Converted to Lead</th>\n",
       "      <td id=\"T_26f4a_row16_col0\" class=\"data row16 col0\" >0.055845</td>\n",
       "      <td id=\"T_26f4a_row16_col1\" class=\"data row16 col1\" >0.064645</td>\n",
       "      <td id=\"T_26f4a_row16_col2\" class=\"data row16 col2\" >0.078224</td>\n",
       "      <td id=\"T_26f4a_row16_col3\" class=\"data row16 col3\" >0.000000</td>\n",
       "    </tr>\n",
       "    <tr>\n",
       "      <th id=\"T_26f4a_level0_row17\" class=\"row_heading level0 row17\" >ult_actividad_Email Link Clicked</th>\n",
       "      <td id=\"T_26f4a_row17_col0\" class=\"data row17 col0\" >0.024572</td>\n",
       "      <td id=\"T_26f4a_row17_col1\" class=\"data row17 col1\" >0.027460</td>\n",
       "      <td id=\"T_26f4a_row17_col2\" class=\"data row17 col2\" >0.038055</td>\n",
       "      <td id=\"T_26f4a_row17_col3\" class=\"data row17 col3\" >0.052117</td>\n",
       "    </tr>\n",
       "    <tr>\n",
       "      <th id=\"T_26f4a_level0_row18\" class=\"row_heading level0 row18\" >ult_actividad_Email Opened</th>\n",
       "      <td id=\"T_26f4a_row18_col0\" class=\"data row18 col0\" >0.436337</td>\n",
       "      <td id=\"T_26f4a_row18_col1\" class=\"data row18 col1\" >0.445652</td>\n",
       "      <td id=\"T_26f4a_row18_col2\" class=\"data row18 col2\" >0.377731</td>\n",
       "      <td id=\"T_26f4a_row18_col3\" class=\"data row18 col3\" >0.384365</td>\n",
       "    </tr>\n",
       "    <tr>\n",
       "      <th id=\"T_26f4a_level0_row19\" class=\"row_heading level0 row19\" >ult_actividad_OTROS</th>\n",
       "      <td id=\"T_26f4a_row19_col0\" class=\"data row19 col0\" >0.048399</td>\n",
       "      <td id=\"T_26f4a_row19_col1\" class=\"data row19 col1\" >0.025744</td>\n",
       "      <td id=\"T_26f4a_row19_col2\" class=\"data row19 col2\" >0.037350</td>\n",
       "      <td id=\"T_26f4a_row19_col3\" class=\"data row19 col3\" >0.221498</td>\n",
       "    </tr>\n",
       "    <tr>\n",
       "      <th id=\"T_26f4a_level0_row20\" class=\"row_heading level0 row20\" >ult_actividad_Page Visited on Website</th>\n",
       "      <td id=\"T_26f4a_row20_col0\" class=\"data row20 col0\" >0.087118</td>\n",
       "      <td id=\"T_26f4a_row20_col1\" class=\"data row20 col1\" >0.079519</td>\n",
       "      <td id=\"T_26f4a_row20_col2\" class=\"data row20 col2\" >0.068358</td>\n",
       "      <td id=\"T_26f4a_row20_col3\" class=\"data row20 col3\" >0.035831</td>\n",
       "    </tr>\n",
       "    <tr>\n",
       "      <th id=\"T_26f4a_level0_row21\" class=\"row_heading level0 row21\" >ult_actividad_SMS Sent</th>\n",
       "      <td id=\"T_26f4a_row21_col0\" class=\"data row21 col0\" >0.329859</td>\n",
       "      <td id=\"T_26f4a_row21_col1\" class=\"data row21 col1\" >0.339817</td>\n",
       "      <td id=\"T_26f4a_row21_col2\" class=\"data row21 col2\" >0.250881</td>\n",
       "      <td id=\"T_26f4a_row21_col3\" class=\"data row21 col3\" >0.283388</td>\n",
       "    </tr>\n",
       "    <tr>\n",
       "      <th id=\"T_26f4a_level0_row22\" class=\"row_heading level0 row22\" >ambito_Banking, Investment And Insurance</th>\n",
       "      <td id=\"T_26f4a_row22_col0\" class=\"data row22 col0\" >0.061802</td>\n",
       "      <td id=\"T_26f4a_row22_col1\" class=\"data row22 col1\" >0.053204</td>\n",
       "      <td id=\"T_26f4a_row22_col2\" class=\"data row22 col2\" >0.012685</td>\n",
       "      <td id=\"T_26f4a_row22_col3\" class=\"data row22 col3\" >0.045603</td>\n",
       "    </tr>\n",
       "    <tr>\n",
       "      <th id=\"T_26f4a_level0_row23\" class=\"row_heading level0 row23\" >ambito_Business Administration</th>\n",
       "      <td id=\"T_26f4a_row23_col0\" class=\"data row23 col0\" >0.081162</td>\n",
       "      <td id=\"T_26f4a_row23_col1\" class=\"data row23 col1\" >0.074943</td>\n",
       "      <td id=\"T_26f4a_row23_col2\" class=\"data row23 col2\" >0.012685</td>\n",
       "      <td id=\"T_26f4a_row23_col3\" class=\"data row23 col3\" >0.032573</td>\n",
       "    </tr>\n",
       "    <tr>\n",
       "      <th id=\"T_26f4a_level0_row24\" class=\"row_heading level0 row24\" >ambito_Finance Management</th>\n",
       "      <td id=\"T_26f4a_row24_col0\" class=\"data row24 col0\" >0.180194</td>\n",
       "      <td id=\"T_26f4a_row24_col1\" class=\"data row24 col1\" >0.153890</td>\n",
       "      <td id=\"T_26f4a_row24_col2\" class=\"data row24 col2\" >0.032417</td>\n",
       "      <td id=\"T_26f4a_row24_col3\" class=\"data row24 col3\" >0.166124</td>\n",
       "    </tr>\n",
       "    <tr>\n",
       "      <th id=\"T_26f4a_level0_row25\" class=\"row_heading level0 row25\" >ambito_Healthcare Management</th>\n",
       "      <td id=\"T_26f4a_row25_col0\" class=\"data row25 col0\" >0.014147</td>\n",
       "      <td id=\"T_26f4a_row25_col1\" class=\"data row25 col1\" >0.030892</td>\n",
       "      <td id=\"T_26f4a_row25_col2\" class=\"data row25 col2\" >0.007047</td>\n",
       "      <td id=\"T_26f4a_row25_col3\" class=\"data row25 col3\" >0.039088</td>\n",
       "    </tr>\n",
       "    <tr>\n",
       "      <th id=\"T_26f4a_level0_row26\" class=\"row_heading level0 row26\" >ambito_Human Resource Management</th>\n",
       "      <td id=\"T_26f4a_row26_col0\" class=\"data row26 col0\" >0.146687</td>\n",
       "      <td id=\"T_26f4a_row26_col1\" class=\"data row26 col1\" >0.132151</td>\n",
       "      <td id=\"T_26f4a_row26_col2\" class=\"data row26 col2\" >0.028894</td>\n",
       "      <td id=\"T_26f4a_row26_col3\" class=\"data row26 col3\" >0.156352</td>\n",
       "    </tr>\n",
       "    <tr>\n",
       "      <th id=\"T_26f4a_level0_row27\" class=\"row_heading level0 row27\" >ambito_IT Projects Management</th>\n",
       "      <td id=\"T_26f4a_row27_col0\" class=\"data row27 col0\" >0.052867</td>\n",
       "      <td id=\"T_26f4a_row27_col1\" class=\"data row27 col1\" >0.065789</td>\n",
       "      <td id=\"T_26f4a_row27_col2\" class=\"data row27 col2\" >0.011276</td>\n",
       "      <td id=\"T_26f4a_row27_col3\" class=\"data row27 col3\" >0.029316</td>\n",
       "    </tr>\n",
       "    <tr>\n",
       "      <th id=\"T_26f4a_level0_row28\" class=\"row_heading level0 row28\" >ambito_International Business</th>\n",
       "      <td id=\"T_26f4a_row28_col0\" class=\"data row28 col0\" >0.029784</td>\n",
       "      <td id=\"T_26f4a_row28_col1\" class=\"data row28 col1\" >0.036041</td>\n",
       "      <td id=\"T_26f4a_row28_col2\" class=\"data row28 col2\" >0.007047</td>\n",
       "      <td id=\"T_26f4a_row28_col3\" class=\"data row28 col3\" >0.006515</td>\n",
       "    </tr>\n",
       "    <tr>\n",
       "      <th id=\"T_26f4a_level0_row29\" class=\"row_heading level0 row29\" >ambito_Marketing Management</th>\n",
       "      <td id=\"T_26f4a_row29_col0\" class=\"data row29 col0\" >0.131050</td>\n",
       "      <td id=\"T_26f4a_row29_col1\" class=\"data row29 col1\" >0.110984</td>\n",
       "      <td id=\"T_26f4a_row29_col2\" class=\"data row29 col2\" >0.050740</td>\n",
       "      <td id=\"T_26f4a_row29_col3\" class=\"data row29 col3\" >0.146580</td>\n",
       "    </tr>\n",
       "    <tr>\n",
       "      <th id=\"T_26f4a_level0_row30\" class=\"row_heading level0 row30\" >ambito_Media and Advertising</th>\n",
       "      <td id=\"T_26f4a_row30_col0\" class=\"data row30 col0\" >0.034996</td>\n",
       "      <td id=\"T_26f4a_row30_col1\" class=\"data row30 col1\" >0.037185</td>\n",
       "      <td id=\"T_26f4a_row30_col2\" class=\"data row30 col2\" >0.009866</td>\n",
       "      <td id=\"T_26f4a_row30_col3\" class=\"data row30 col3\" >0.016287</td>\n",
       "    </tr>\n",
       "    <tr>\n",
       "      <th id=\"T_26f4a_level0_row31\" class=\"row_heading level0 row31\" >ambito_OTROS</th>\n",
       "      <td id=\"T_26f4a_row31_col0\" class=\"data row31 col0\" >0.069248</td>\n",
       "      <td id=\"T_26f4a_row31_col1\" class=\"data row31 col1\" >0.093249</td>\n",
       "      <td id=\"T_26f4a_row31_col2\" class=\"data row31 col2\" >0.011276</td>\n",
       "      <td id=\"T_26f4a_row31_col3\" class=\"data row31 col3\" >0.071661</td>\n",
       "    </tr>\n",
       "    <tr>\n",
       "      <th id=\"T_26f4a_level0_row32\" class=\"row_heading level0 row32\" >ambito_Operations Management</th>\n",
       "      <td id=\"T_26f4a_row32_col0\" class=\"data row32 col0\" >0.087863</td>\n",
       "      <td id=\"T_26f4a_row32_col1\" class=\"data row32 col1\" >0.091533</td>\n",
       "      <td id=\"T_26f4a_row32_col2\" class=\"data row32 col2\" >0.013390</td>\n",
       "      <td id=\"T_26f4a_row32_col3\" class=\"data row32 col3\" >0.094463</td>\n",
       "    </tr>\n",
       "    <tr>\n",
       "      <th id=\"T_26f4a_level0_row33\" class=\"row_heading level0 row33\" >ambito_Select</th>\n",
       "      <td id=\"T_26f4a_row33_col0\" class=\"data row33 col0\" >0.043931</td>\n",
       "      <td id=\"T_26f4a_row33_col1\" class=\"data row33 col1\" >0.001144</td>\n",
       "      <td id=\"T_26f4a_row33_col2\" class=\"data row33 col2\" >0.787174</td>\n",
       "      <td id=\"T_26f4a_row33_col3\" class=\"data row33 col3\" >0.143322</td>\n",
       "    </tr>\n",
       "    <tr>\n",
       "      <th id=\"T_26f4a_level0_row34\" class=\"row_heading level0 row34\" >ambito_Supply Chain Management</th>\n",
       "      <td id=\"T_26f4a_row34_col0\" class=\"data row34 col0\" >0.049144</td>\n",
       "      <td id=\"T_26f4a_row34_col1\" class=\"data row34 col1\" >0.072654</td>\n",
       "      <td id=\"T_26f4a_row34_col2\" class=\"data row34 col2\" >0.010571</td>\n",
       "      <td id=\"T_26f4a_row34_col3\" class=\"data row34 col3\" >0.039088</td>\n",
       "    </tr>\n",
       "    <tr>\n",
       "      <th id=\"T_26f4a_level0_row35\" class=\"row_heading level0 row35\" >ambito_Travel and Tourism</th>\n",
       "      <td id=\"T_26f4a_row35_col0\" class=\"data row35 col0\" >0.017126</td>\n",
       "      <td id=\"T_26f4a_row35_col1\" class=\"data row35 col1\" >0.046339</td>\n",
       "      <td id=\"T_26f4a_row35_col2\" class=\"data row35 col2\" >0.004933</td>\n",
       "      <td id=\"T_26f4a_row35_col3\" class=\"data row35 col3\" >0.013029</td>\n",
       "    </tr>\n",
       "    <tr>\n",
       "      <th id=\"T_26f4a_level0_row36\" class=\"row_heading level0 row36\" >ocupacion_OTROS</th>\n",
       "      <td id=\"T_26f4a_row36_col0\" class=\"data row36 col0\" >0.005957</td>\n",
       "      <td id=\"T_26f4a_row36_col1\" class=\"data row36 col1\" >0.004005</td>\n",
       "      <td id=\"T_26f4a_row36_col2\" class=\"data row36 col2\" >0.005638</td>\n",
       "      <td id=\"T_26f4a_row36_col3\" class=\"data row36 col3\" >0.006515</td>\n",
       "    </tr>\n",
       "    <tr>\n",
       "      <th id=\"T_26f4a_level0_row37\" class=\"row_heading level0 row37\" >ocupacion_Student</th>\n",
       "      <td id=\"T_26f4a_row37_col0\" class=\"data row37 col0\" >0.009680</td>\n",
       "      <td id=\"T_26f4a_row37_col1\" class=\"data row37 col1\" >0.026888</td>\n",
       "      <td id=\"T_26f4a_row37_col2\" class=\"data row37 col2\" >0.019732</td>\n",
       "      <td id=\"T_26f4a_row37_col3\" class=\"data row37 col3\" >0.048860</td>\n",
       "    </tr>\n",
       "    <tr>\n",
       "      <th id=\"T_26f4a_level0_row38\" class=\"row_heading level0 row38\" >ocupacion_Unemployed</th>\n",
       "      <td id=\"T_26f4a_row38_col0\" class=\"data row38 col0\" >0.900223</td>\n",
       "      <td id=\"T_26f4a_row38_col1\" class=\"data row38 col1\" >0.891304</td>\n",
       "      <td id=\"T_26f4a_row38_col2\" class=\"data row38 col2\" >0.961240</td>\n",
       "      <td id=\"T_26f4a_row38_col3\" class=\"data row38 col3\" >0.472313</td>\n",
       "    </tr>\n",
       "    <tr>\n",
       "      <th id=\"T_26f4a_level0_row39\" class=\"row_heading level0 row39\" >ocupacion_Working Professional</th>\n",
       "      <td id=\"T_26f4a_row39_col0\" class=\"data row39 col0\" >0.084140</td>\n",
       "      <td id=\"T_26f4a_row39_col1\" class=\"data row39 col1\" >0.077803</td>\n",
       "      <td id=\"T_26f4a_row39_col2\" class=\"data row39 col2\" >0.013390</td>\n",
       "      <td id=\"T_26f4a_row39_col3\" class=\"data row39 col3\" >0.472313</td>\n",
       "    </tr>\n",
       "    <tr>\n",
       "      <th id=\"T_26f4a_level0_row40\" class=\"row_heading level0 row40\" >descarga_lm_No</th>\n",
       "      <td id=\"T_26f4a_row40_col0\" class=\"data row40 col0\" >1.000000</td>\n",
       "      <td id=\"T_26f4a_row40_col1\" class=\"data row40 col1\" >0.000000</td>\n",
       "      <td id=\"T_26f4a_row40_col2\" class=\"data row40 col2\" >0.979563</td>\n",
       "      <td id=\"T_26f4a_row40_col3\" class=\"data row40 col3\" >0.938111</td>\n",
       "    </tr>\n",
       "    <tr>\n",
       "      <th id=\"T_26f4a_level0_row41\" class=\"row_heading level0 row41\" >descarga_lm_Yes</th>\n",
       "      <td id=\"T_26f4a_row41_col0\" class=\"data row41 col0\" >0.000000</td>\n",
       "      <td id=\"T_26f4a_row41_col1\" class=\"data row41 col1\" >1.000000</td>\n",
       "      <td id=\"T_26f4a_row41_col2\" class=\"data row41 col2\" >0.020437</td>\n",
       "      <td id=\"T_26f4a_row41_col3\" class=\"data row41 col3\" >0.061889</td>\n",
       "    </tr>\n",
       "    <tr>\n",
       "      <th id=\"T_26f4a_level0_row42\" class=\"row_heading level0 row42\" >compra</th>\n",
       "      <td id=\"T_26f4a_row42_col0\" class=\"data row42 col0\" >0.416977</td>\n",
       "      <td id=\"T_26f4a_row42_col1\" class=\"data row42 col1\" >0.390732</td>\n",
       "      <td id=\"T_26f4a_row42_col2\" class=\"data row42 col2\" >0.342495</td>\n",
       "      <td id=\"T_26f4a_row42_col3\" class=\"data row42 col3\" >0.921824</td>\n",
       "    </tr>\n",
       "  </tbody>\n",
       "</table>\n"
      ],
      "text/plain": [
       "<pandas.io.formats.style.Styler at 0x1e222dcd650>"
      ]
     },
     "execution_count": 15,
     "metadata": {},
     "output_type": "execute_result"
    }
   ],
   "source": [
    "df.groupby('segmento').mean().T \\\n",
    "    .style.highlight_max(color = 'lightgreen', axis = 1) \\\n",
    "    .highlight_min(color = 'red', axis = 1)"
   ]
  },
  {
   "cell_type": "markdown",
   "id": "99882db8",
   "metadata": {},
   "source": [
    "Esta segmentación no muestra un claro perfil diferencial entre el segmento 0, 1 y 2.\n",
    "Sin embargo, el cluster 3 presenta una alta tasa de conversion.\n",
    "Veo que porcentaje de mis clientes estan en cada cluster"
   ]
  },
  {
   "cell_type": "code",
   "execution_count": 66,
   "id": "457f7c5d",
   "metadata": {},
   "outputs": [
    {
     "data": {
      "text/plain": [
       "segmento\n",
       "0   0.36\n",
       "2   0.28\n",
       "1   0.20\n",
       "3   0.16\n",
       "Name: proportion, dtype: float64"
      ]
     },
     "execution_count": 66,
     "metadata": {},
     "output_type": "execute_result"
    }
   ],
   "source": [
    "df.segmento.value_counts(normalize=True)"
   ]
  },
  {
   "cell_type": "markdown",
   "id": "95f7bd6a",
   "metadata": {},
   "source": [
    "Solamente en 16% de mis leads tiene una alta tasa de conversion.\n",
    "Pruebo con otra clusterizacion eliminando variables."
   ]
  },
  {
   "cell_type": "code",
   "execution_count": 48,
   "id": "24776190",
   "metadata": {},
   "outputs": [],
   "source": [
    "a_eliminar = df.columns[(df.columns.str.startswith('descarga_')) ^ (df.columns.str.startswith('fuente_')) \\\n",
    "          ^ (df.columns.str.startswith('score_')) ^ (df.columns.str.startswith('ambito_')) \\\n",
    "          ^ (df.columns.str.startswith('descarga_lm'))]"
   ]
  },
  {
   "cell_type": "code",
   "execution_count": 49,
   "id": "5c813a62",
   "metadata": {},
   "outputs": [],
   "source": [
    "a_eliminar = a_eliminar.to_list()"
   ]
  },
  {
   "cell_type": "code",
   "execution_count": 50,
   "id": "50f403fc",
   "metadata": {},
   "outputs": [],
   "source": [
    "a_eliminar.extend(['visitas_total_mms','paginas_vistas_visita_mms'])"
   ]
  },
  {
   "cell_type": "code",
   "execution_count": 51,
   "id": "8879353e",
   "metadata": {},
   "outputs": [
    {
     "data": {
      "text/plain": [
       "['score_actividad_mms',\n",
       " 'score_perfil_mms',\n",
       " 'fuente_Chat',\n",
       " 'fuente_Direct Traffic',\n",
       " 'fuente_Google',\n",
       " 'fuente_OTROS',\n",
       " 'fuente_Organic Search',\n",
       " 'fuente_Reference',\n",
       " 'ambito_Banking, Investment And Insurance',\n",
       " 'ambito_Business Administration',\n",
       " 'ambito_Finance Management',\n",
       " 'ambito_Healthcare Management',\n",
       " 'ambito_Human Resource Management',\n",
       " 'ambito_IT Projects Management',\n",
       " 'ambito_International Business',\n",
       " 'ambito_Marketing Management',\n",
       " 'ambito_Media and Advertising',\n",
       " 'ambito_OTROS',\n",
       " 'ambito_Operations Management',\n",
       " 'ambito_Select',\n",
       " 'ambito_Supply Chain Management',\n",
       " 'ambito_Travel and Tourism',\n",
       " 'visitas_total_mms',\n",
       " 'paginas_vistas_visita_mms']"
      ]
     },
     "execution_count": 51,
     "metadata": {},
     "output_type": "execute_result"
    }
   ],
   "source": [
    "a_eliminar"
   ]
  },
  {
   "cell_type": "code",
   "execution_count": 53,
   "id": "339ec14e",
   "metadata": {},
   "outputs": [],
   "source": [
    "df.drop(columns = a_eliminar, inplace = True)"
   ]
  },
  {
   "cell_type": "markdown",
   "id": "3bb42d44",
   "metadata": {},
   "source": [
    "### Crear listas para guardar la salida de cada métrica"
   ]
  },
  {
   "cell_type": "code",
   "execution_count": 56,
   "id": "d968ec33",
   "metadata": {},
   "outputs": [],
   "source": [
    "codo = []\n",
    "silueta = []\n",
    "calins = []\n",
    "davies = []"
   ]
  },
  {
   "cell_type": "markdown",
   "id": "159d7d2b",
   "metadata": {},
   "source": [
    "### Analizar el espacio de soluciones"
   ]
  },
  {
   "cell_type": "code",
   "execution_count": 57,
   "id": "b029d9bf",
   "metadata": {},
   "outputs": [],
   "source": [
    "for solucion in soluciones:\n",
    "    \n",
    "    #Instanciar\n",
    "    cluster = KMeans(n_clusters = solucion, n_init=10)\n",
    "    \n",
    "    #Entrenar\n",
    "    cluster.fit(df)\n",
    "    \n",
    "    #Recoger las métricas\n",
    "    codo.append(cluster.inertia_)\n",
    "    silueta.append(silhouette_score(df, cluster.labels_))\n",
    "    calins.append(calinski_harabasz_score(df, cluster.labels_))\n",
    "    davies.append(davies_bouldin_score(df, cluster.labels_))"
   ]
  },
  {
   "cell_type": "markdown",
   "id": "25e1adc1",
   "metadata": {},
   "source": [
    "### Identificar la mejor solucion"
   ]
  },
  {
   "cell_type": "markdown",
   "id": "aaf5d00a",
   "metadata": {},
   "source": [
    "#### Analizar las métricas"
   ]
  },
  {
   "cell_type": "code",
   "execution_count": 58,
   "id": "83053e90",
   "metadata": {},
   "outputs": [
    {
     "data": {
      "text/html": [
       "<div>\n",
       "<style scoped>\n",
       "    .dataframe tbody tr th:only-of-type {\n",
       "        vertical-align: middle;\n",
       "    }\n",
       "\n",
       "    .dataframe tbody tr th {\n",
       "        vertical-align: top;\n",
       "    }\n",
       "\n",
       "    .dataframe thead th {\n",
       "        text-align: right;\n",
       "    }\n",
       "</style>\n",
       "<table border=\"1\" class=\"dataframe\">\n",
       "  <thead>\n",
       "    <tr style=\"text-align: right;\">\n",
       "      <th></th>\n",
       "      <th>Codo</th>\n",
       "      <th>Silueta</th>\n",
       "      <th>Calins</th>\n",
       "      <th>Davies</th>\n",
       "    </tr>\n",
       "    <tr>\n",
       "      <th>Solucion</th>\n",
       "      <th></th>\n",
       "      <th></th>\n",
       "      <th></th>\n",
       "      <th></th>\n",
       "    </tr>\n",
       "  </thead>\n",
       "  <tbody>\n",
       "    <tr>\n",
       "      <th>3</th>\n",
       "      <td>6751.92</td>\n",
       "      <td>0.38</td>\n",
       "      <td>2740.84</td>\n",
       "      <td>1.17</td>\n",
       "    </tr>\n",
       "    <tr>\n",
       "      <th>4</th>\n",
       "      <td>6023.14</td>\n",
       "      <td>0.37</td>\n",
       "      <td>2242.01</td>\n",
       "      <td>1.33</td>\n",
       "    </tr>\n",
       "    <tr>\n",
       "      <th>5</th>\n",
       "      <td>5404.36</td>\n",
       "      <td>0.35</td>\n",
       "      <td>2011.38</td>\n",
       "      <td>1.36</td>\n",
       "    </tr>\n",
       "    <tr>\n",
       "      <th>6</th>\n",
       "      <td>4957.25</td>\n",
       "      <td>0.36</td>\n",
       "      <td>1840.66</td>\n",
       "      <td>1.37</td>\n",
       "    </tr>\n",
       "  </tbody>\n",
       "</table>\n",
       "</div>"
      ],
      "text/plain": [
       "            Codo  Silueta  Calins  Davies\n",
       "Solucion                                 \n",
       "3        6751.92     0.38 2740.84    1.17\n",
       "4        6023.14     0.37 2242.01    1.33\n",
       "5        5404.36     0.35 2011.38    1.36\n",
       "6        4957.25     0.36 1840.66    1.37"
      ]
     },
     "execution_count": 58,
     "metadata": {},
     "output_type": "execute_result"
    }
   ],
   "source": [
    "metricas = pd.DataFrame({'Solucion':soluciones,\n",
    "              'Codo': codo,\n",
    "              'Silueta':silueta,\n",
    "              'Calins':calins,           \n",
    "              'Davies':davies}).set_index('Solucion')\n",
    "\n",
    "metricas"
   ]
  },
  {
   "cell_type": "markdown",
   "id": "c2426736",
   "metadata": {},
   "source": [
    "#### Analizar los gráficos"
   ]
  },
  {
   "cell_type": "code",
   "execution_count": 59,
   "id": "c06097a6",
   "metadata": {
    "scrolled": true
   },
   "outputs": [
    {
     "data": {
      "image/png": "[encoded data removed]",
      "text/plain": [
       "<Figure size 1200x800 with 4 Axes>"
      ]
     },
     "metadata": {},
     "output_type": "display_data"
    }
   ],
   "source": [
    "metricas.plot(subplots = True, figsize = (12,8), layout = (2,2), sharex = False);"
   ]
  },
  {
   "cell_type": "markdown",
   "id": "7c769acc",
   "metadata": {},
   "source": [
    "### Segmentación final con la mejor solucion"
   ]
  },
  {
   "cell_type": "code",
   "execution_count": 63,
   "id": "b8b93796",
   "metadata": {},
   "outputs": [
    {
     "data": {
      "text/html": [
       "<style>#sk-container-id-3 {color: black;background-color: white;}#sk-container-id-3 pre{padding: 0;}#sk-container-id-3 div.sk-toggleable {background-color: white;}#sk-container-id-3 label.sk-toggleable__label {cursor: pointer;display: block;width: 100%;margin-bottom: 0;padding: 0.3em;box-sizing: border-box;text-align: center;}#sk-container-id-3 label.sk-toggleable__label-arrow:before {content: \"▸\";float: left;margin-right: 0.25em;color: #696969;}#sk-container-id-3 label.sk-toggleable__label-arrow:hover:before {color: black;}#sk-container-id-3 div.sk-estimator:hover label.sk-toggleable__label-arrow:before {color: black;}#sk-container-id-3 div.sk-toggleable__content {max-height: 0;max-width: 0;overflow: hidden;text-align: left;background-color: #f0f8ff;}#sk-container-id-3 div.sk-toggleable__content pre {margin: 0.2em;color: black;border-radius: 0.25em;background-color: #f0f8ff;}#sk-container-id-3 input.sk-toggleable__control:checked~div.sk-toggleable__content {max-height: 200px;max-width: 100%;overflow: auto;}#sk-container-id-3 input.sk-toggleable__control:checked~label.sk-toggleable__label-arrow:before {content: \"▾\";}#sk-container-id-3 div.sk-estimator input.sk-toggleable__control:checked~label.sk-toggleable__label {background-color: #d4ebff;}#sk-container-id-3 div.sk-label input.sk-toggleable__control:checked~label.sk-toggleable__label {background-color: #d4ebff;}#sk-container-id-3 input.sk-hidden--visually {border: 0;clip: rect(1px 1px 1px 1px);clip: rect(1px, 1px, 1px, 1px);height: 1px;margin: -1px;overflow: hidden;padding: 0;position: absolute;width: 1px;}#sk-container-id-3 div.sk-estimator {font-family: monospace;background-color: #f0f8ff;border: 1px dotted black;border-radius: 0.25em;box-sizing: border-box;margin-bottom: 0.5em;}#sk-container-id-3 div.sk-estimator:hover {background-color: #d4ebff;}#sk-container-id-3 div.sk-parallel-item::after {content: \"\";width: 100%;border-bottom: 1px solid gray;flex-grow: 1;}#sk-container-id-3 div.sk-label:hover label.sk-toggleable__label {background-color: #d4ebff;}#sk-container-id-3 div.sk-serial::before {content: \"\";position: absolute;border-left: 1px solid gray;box-sizing: border-box;top: 0;bottom: 0;left: 50%;z-index: 0;}#sk-container-id-3 div.sk-serial {display: flex;flex-direction: column;align-items: center;background-color: white;padding-right: 0.2em;padding-left: 0.2em;position: relative;}#sk-container-id-3 div.sk-item {position: relative;z-index: 1;}#sk-container-id-3 div.sk-parallel {display: flex;align-items: stretch;justify-content: center;background-color: white;position: relative;}#sk-container-id-3 div.sk-item::before, #sk-container-id-3 div.sk-parallel-item::before {content: \"\";position: absolute;border-left: 1px solid gray;box-sizing: border-box;top: 0;bottom: 0;left: 50%;z-index: -1;}#sk-container-id-3 div.sk-parallel-item {display: flex;flex-direction: column;z-index: 1;position: relative;background-color: white;}#sk-container-id-3 div.sk-parallel-item:first-child::after {align-self: flex-end;width: 50%;}#sk-container-id-3 div.sk-parallel-item:last-child::after {align-self: flex-start;width: 50%;}#sk-container-id-3 div.sk-parallel-item:only-child::after {width: 0;}#sk-container-id-3 div.sk-dashed-wrapped {border: 1px dashed gray;margin: 0 0.4em 0.5em 0.4em;box-sizing: border-box;padding-bottom: 0.4em;background-color: white;}#sk-container-id-3 div.sk-label label {font-family: monospace;font-weight: bold;display: inline-block;line-height: 1.2em;}#sk-container-id-3 div.sk-label-container {text-align: center;}#sk-container-id-3 div.sk-container {/* jupyter's `normalize.less` sets `[hidden] { display: none; }` but bootstrap.min.css set `[hidden] { display: none !important; }` so we also need the `!important` here to be able to override the default hidden behavior on the sphinx rendered scikit-learn.org. See: https://github.com/scikit-learn/scikit-learn/issues/21755 */display: inline-block !important;position: relative;}#sk-container-id-3 div.sk-text-repr-fallback {display: none;}</style><div id=\"sk-container-id-3\" class=\"sk-top-container\"><div class=\"sk-text-repr-fallback\"><pre>KMeans(n_clusters=4, n_init=10)</pre><b>In a Jupyter environment, please rerun this cell to show the HTML representation or trust the notebook. <br />On GitHub, the HTML representation is unable to render, please try loading this page with nbviewer.org.</b></div><div class=\"sk-container\" hidden><div class=\"sk-item\"><div class=\"sk-estimator sk-toggleable\"><input class=\"sk-toggleable__control sk-hidden--visually\" id=\"sk-estimator-id-3\" type=\"checkbox\" checked><label for=\"sk-estimator-id-3\" class=\"sk-toggleable__label sk-toggleable__label-arrow\">KMeans</label><div class=\"sk-toggleable__content\"><pre>KMeans(n_clusters=4, n_init=10)</pre></div></div></div></div></div>"
      ],
      "text/plain": [
       "KMeans(n_clusters=4, n_init=10)"
      ]
     },
     "execution_count": 63,
     "metadata": {},
     "output_type": "execute_result"
    }
   ],
   "source": [
    "mejor_solucion = 4\n",
    "\n",
    "#Instanciar\n",
    "cluster = KMeans(n_clusters = mejor_solucion, n_init=10)\n",
    "    \n",
    "#Entrenar\n",
    "cluster.fit(df)"
   ]
  },
  {
   "cell_type": "markdown",
   "id": "a6a5ae9e",
   "metadata": {},
   "source": [
    "## EVALUAR"
   ]
  },
  {
   "cell_type": "markdown",
   "id": "7f3d6543",
   "metadata": {},
   "source": [
    "Comprobar que los perfiles obtenidos en entrenamiento son similares a los objetidos al predecir sobre validación.\n",
    "\n",
    "Si pasa esto lo que nos dice es que la segmentación es estable."
   ]
  },
  {
   "cell_type": "markdown",
   "id": "9b71ded2",
   "metadata": {},
   "source": [
    "### Calcular el segmento en entrenamiento y en validación"
   ]
  },
  {
   "cell_type": "code",
   "execution_count": 64,
   "id": "55ea3206",
   "metadata": {},
   "outputs": [],
   "source": [
    "df['segmento'] = cluster.predict(df)"
   ]
  },
  {
   "cell_type": "markdown",
   "id": "5a77a5fe",
   "metadata": {},
   "source": [
    "## PERFILAR LOS SEGMENTOS"
   ]
  },
  {
   "cell_type": "code",
   "execution_count": 65,
   "id": "cd86358b",
   "metadata": {
    "scrolled": true
   },
   "outputs": [
    {
     "data": {
      "text/html": [
       "<style type=\"text/css\">\n",
       "#T_2016e_row0_col0, #T_2016e_row1_col2, #T_2016e_row2_col0, #T_2016e_row3_col1, #T_2016e_row3_col2, #T_2016e_row3_col3, #T_2016e_row4_col1, #T_2016e_row4_col3, #T_2016e_row5_col3, #T_2016e_row6_col3, #T_2016e_row7_col3, #T_2016e_row8_col1, #T_2016e_row9_col3, #T_2016e_row10_col3, #T_2016e_row11_col3, #T_2016e_row12_col1, #T_2016e_row13_col2, #T_2016e_row14_col0, #T_2016e_row15_col3, #T_2016e_row16_col1, #T_2016e_row16_col3, #T_2016e_row17_col2, #T_2016e_row18_col3 {\n",
       "  background-color: red;\n",
       "}\n",
       "#T_2016e_row0_col1, #T_2016e_row1_col0, #T_2016e_row2_col2, #T_2016e_row3_col0, #T_2016e_row4_col0, #T_2016e_row5_col0, #T_2016e_row6_col1, #T_2016e_row7_col1, #T_2016e_row8_col3, #T_2016e_row9_col0, #T_2016e_row10_col1, #T_2016e_row11_col1, #T_2016e_row12_col3, #T_2016e_row13_col3, #T_2016e_row14_col2, #T_2016e_row15_col0, #T_2016e_row16_col2, #T_2016e_row17_col1, #T_2016e_row17_col3, #T_2016e_row18_col0 {\n",
       "  background-color: lightgreen;\n",
       "}\n",
       "</style>\n",
       "<table id=\"T_2016e\">\n",
       "  <thead>\n",
       "    <tr>\n",
       "      <th class=\"index_name level0\" >segmento</th>\n",
       "      <th id=\"T_2016e_level0_col0\" class=\"col_heading level0 col0\" >0</th>\n",
       "      <th id=\"T_2016e_level0_col1\" class=\"col_heading level0 col1\" >1</th>\n",
       "      <th id=\"T_2016e_level0_col2\" class=\"col_heading level0 col2\" >2</th>\n",
       "      <th id=\"T_2016e_level0_col3\" class=\"col_heading level0 col3\" >3</th>\n",
       "    </tr>\n",
       "  </thead>\n",
       "  <tbody>\n",
       "    <tr>\n",
       "      <th id=\"T_2016e_level0_row0\" class=\"row_heading level0 row0\" >tiempo_en_site_total_mms</th>\n",
       "      <td id=\"T_2016e_row0_col0\" class=\"data row0 col0\" >0.231233</td>\n",
       "      <td id=\"T_2016e_row0_col1\" class=\"data row0 col1\" >0.303433</td>\n",
       "      <td id=\"T_2016e_row0_col2\" class=\"data row0 col2\" >0.289163</td>\n",
       "      <td id=\"T_2016e_row0_col3\" class=\"data row0 col3\" >0.268566</td>\n",
       "    </tr>\n",
       "    <tr>\n",
       "      <th id=\"T_2016e_level0_row1\" class=\"row_heading level0 row1\" >origen_API</th>\n",
       "      <td id=\"T_2016e_row1_col0\" class=\"data row1 col0\" >0.849363</td>\n",
       "      <td id=\"T_2016e_row1_col1\" class=\"data row1 col1\" >0.024768</td>\n",
       "      <td id=\"T_2016e_row1_col2\" class=\"data row1 col2\" >0.000000</td>\n",
       "      <td id=\"T_2016e_row1_col3\" class=\"data row1 col3\" >0.035944</td>\n",
       "    </tr>\n",
       "    <tr>\n",
       "      <th id=\"T_2016e_level0_row2\" class=\"row_heading level0 row2\" >origen_Landing Page Submission</th>\n",
       "      <td id=\"T_2016e_row2_col0\" class=\"data row2 col0\" >0.000000</td>\n",
       "      <td id=\"T_2016e_row2_col1\" class=\"data row2 col1\" >0.975232</td>\n",
       "      <td id=\"T_2016e_row2_col2\" class=\"data row2 col2\" >0.997022</td>\n",
       "      <td id=\"T_2016e_row2_col3\" class=\"data row2 col3\" >0.964056</td>\n",
       "    </tr>\n",
       "    <tr>\n",
       "      <th id=\"T_2016e_level0_row3\" class=\"row_heading level0 row3\" >origen_Lead Add Form</th>\n",
       "      <td id=\"T_2016e_row3_col0\" class=\"data row3 col0\" >0.129780</td>\n",
       "      <td id=\"T_2016e_row3_col1\" class=\"data row3 col1\" >0.000000</td>\n",
       "      <td id=\"T_2016e_row3_col2\" class=\"data row3 col2\" >0.000000</td>\n",
       "      <td id=\"T_2016e_row3_col3\" class=\"data row3 col3\" >0.000000</td>\n",
       "    </tr>\n",
       "    <tr>\n",
       "      <th id=\"T_2016e_level0_row4\" class=\"row_heading level0 row4\" >origen_OTROS</th>\n",
       "      <td id=\"T_2016e_row4_col0\" class=\"data row4 col0\" >0.020857</td>\n",
       "      <td id=\"T_2016e_row4_col1\" class=\"data row4 col1\" >0.000000</td>\n",
       "      <td id=\"T_2016e_row4_col2\" class=\"data row4 col2\" >0.002978</td>\n",
       "      <td id=\"T_2016e_row4_col3\" class=\"data row4 col3\" >0.000000</td>\n",
       "    </tr>\n",
       "    <tr>\n",
       "      <th id=\"T_2016e_level0_row5\" class=\"row_heading level0 row5\" >ult_actividad_Chat Conversation</th>\n",
       "      <td id=\"T_2016e_row5_col0\" class=\"data row5 col0\" >0.126883</td>\n",
       "      <td id=\"T_2016e_row5_col1\" class=\"data row5 col1\" >0.030960</td>\n",
       "      <td id=\"T_2016e_row5_col2\" class=\"data row5 col2\" >0.017870</td>\n",
       "      <td id=\"T_2016e_row5_col3\" class=\"data row5 col3\" >0.000000</td>\n",
       "    </tr>\n",
       "    <tr>\n",
       "      <th id=\"T_2016e_level0_row6\" class=\"row_heading level0 row6\" >ult_actividad_Converted to Lead</th>\n",
       "      <td id=\"T_2016e_row6_col0\" class=\"data row6 col0\" >0.064311</td>\n",
       "      <td id=\"T_2016e_row6_col1\" class=\"data row6 col1\" >0.116615</td>\n",
       "      <td id=\"T_2016e_row6_col2\" class=\"data row6 col2\" >0.055845</td>\n",
       "      <td id=\"T_2016e_row6_col3\" class=\"data row6 col3\" >0.000000</td>\n",
       "    </tr>\n",
       "    <tr>\n",
       "      <th id=\"T_2016e_level0_row7\" class=\"row_heading level0 row7\" >ult_actividad_Email Link Clicked</th>\n",
       "      <td id=\"T_2016e_row7_col0\" class=\"data row7 col0\" >0.040556</td>\n",
       "      <td id=\"T_2016e_row7_col1\" class=\"data row7 col1\" >0.049536</td>\n",
       "      <td id=\"T_2016e_row7_col2\" class=\"data row7 col2\" >0.024572</td>\n",
       "      <td id=\"T_2016e_row7_col3\" class=\"data row7 col3\" >0.000000</td>\n",
       "    </tr>\n",
       "    <tr>\n",
       "      <th id=\"T_2016e_level0_row8\" class=\"row_heading level0 row8\" >ult_actividad_Email Opened</th>\n",
       "      <td id=\"T_2016e_row8_col0\" class=\"data row8 col0\" >0.378911</td>\n",
       "      <td id=\"T_2016e_row8_col1\" class=\"data row8 col1\" >0.000000</td>\n",
       "      <td id=\"T_2016e_row8_col2\" class=\"data row8 col2\" >0.436337</td>\n",
       "      <td id=\"T_2016e_row8_col3\" class=\"data row8 col3\" >1.000000</td>\n",
       "    </tr>\n",
       "    <tr>\n",
       "      <th id=\"T_2016e_level0_row9\" class=\"row_heading level0 row9\" >ult_actividad_OTROS</th>\n",
       "      <td id=\"T_2016e_row9_col0\" class=\"data row9 col0\" >0.070104</td>\n",
       "      <td id=\"T_2016e_row9_col1\" class=\"data row9 col1\" >0.046440</td>\n",
       "      <td id=\"T_2016e_row9_col2\" class=\"data row9 col2\" >0.048399</td>\n",
       "      <td id=\"T_2016e_row9_col3\" class=\"data row9 col3\" >0.000000</td>\n",
       "    </tr>\n",
       "    <tr>\n",
       "      <th id=\"T_2016e_level0_row10\" class=\"row_heading level0 row10\" >ult_actividad_Page Visited on Website</th>\n",
       "      <td id=\"T_2016e_row10_col0\" class=\"data row10 col0\" >0.062572</td>\n",
       "      <td id=\"T_2016e_row10_col1\" class=\"data row10 col1\" >0.143447</td>\n",
       "      <td id=\"T_2016e_row10_col2\" class=\"data row10 col2\" >0.087118</td>\n",
       "      <td id=\"T_2016e_row10_col3\" class=\"data row10 col3\" >0.000000</td>\n",
       "    </tr>\n",
       "    <tr>\n",
       "      <th id=\"T_2016e_level0_row11\" class=\"row_heading level0 row11\" >ult_actividad_SMS Sent</th>\n",
       "      <td id=\"T_2016e_row11_col0\" class=\"data row11 col0\" >0.256663</td>\n",
       "      <td id=\"T_2016e_row11_col1\" class=\"data row11 col1\" >0.613003</td>\n",
       "      <td id=\"T_2016e_row11_col2\" class=\"data row11 col2\" >0.329859</td>\n",
       "      <td id=\"T_2016e_row11_col3\" class=\"data row11 col3\" >0.000000</td>\n",
       "    </tr>\n",
       "    <tr>\n",
       "      <th id=\"T_2016e_level0_row12\" class=\"row_heading level0 row12\" >ocupacion_OTROS</th>\n",
       "      <td id=\"T_2016e_row12_col0\" class=\"data row12 col0\" >0.005794</td>\n",
       "      <td id=\"T_2016e_row12_col1\" class=\"data row12 col1\" >0.001032</td>\n",
       "      <td id=\"T_2016e_row12_col2\" class=\"data row12 col2\" >0.005957</td>\n",
       "      <td id=\"T_2016e_row12_col3\" class=\"data row12 col3\" >0.007702</td>\n",
       "    </tr>\n",
       "    <tr>\n",
       "      <th id=\"T_2016e_level0_row13\" class=\"row_heading level0 row13\" >ocupacion_Student</th>\n",
       "      <td id=\"T_2016e_row13_col0\" class=\"data row13 col0\" >0.024913</td>\n",
       "      <td id=\"T_2016e_row13_col1\" class=\"data row13 col1\" >0.019608</td>\n",
       "      <td id=\"T_2016e_row13_col2\" class=\"data row13 col2\" >0.009680</td>\n",
       "      <td id=\"T_2016e_row13_col3\" class=\"data row13 col3\" >0.035944</td>\n",
       "    </tr>\n",
       "    <tr>\n",
       "      <th id=\"T_2016e_level0_row14\" class=\"row_heading level0 row14\" >ocupacion_Unemployed</th>\n",
       "      <td id=\"T_2016e_row14_col0\" class=\"data row14 col0\" >0.874276</td>\n",
       "      <td id=\"T_2016e_row14_col1\" class=\"data row14 col1\" >0.888545</td>\n",
       "      <td id=\"T_2016e_row14_col2\" class=\"data row14 col2\" >0.900223</td>\n",
       "      <td id=\"T_2016e_row14_col3\" class=\"data row14 col3\" >0.894737</td>\n",
       "    </tr>\n",
       "    <tr>\n",
       "      <th id=\"T_2016e_level0_row15\" class=\"row_heading level0 row15\" >ocupacion_Working Professional</th>\n",
       "      <td id=\"T_2016e_row15_col0\" class=\"data row15 col0\" >0.095017</td>\n",
       "      <td id=\"T_2016e_row15_col1\" class=\"data row15 col1\" >0.090815</td>\n",
       "      <td id=\"T_2016e_row15_col2\" class=\"data row15 col2\" >0.084140</td>\n",
       "      <td id=\"T_2016e_row15_col3\" class=\"data row15 col3\" >0.061617</td>\n",
       "    </tr>\n",
       "    <tr>\n",
       "      <th id=\"T_2016e_level0_row16\" class=\"row_heading level0 row16\" >descarga_lm_No</th>\n",
       "      <td id=\"T_2016e_row16_col0\" class=\"data row16 col0\" >0.972190</td>\n",
       "      <td id=\"T_2016e_row16_col1\" class=\"data row16 col1\" >0.000000</td>\n",
       "      <td id=\"T_2016e_row16_col2\" class=\"data row16 col2\" >1.000000</td>\n",
       "      <td id=\"T_2016e_row16_col3\" class=\"data row16 col3\" >0.000000</td>\n",
       "    </tr>\n",
       "    <tr>\n",
       "      <th id=\"T_2016e_level0_row17\" class=\"row_heading level0 row17\" >descarga_lm_Yes</th>\n",
       "      <td id=\"T_2016e_row17_col0\" class=\"data row17 col0\" >0.027810</td>\n",
       "      <td id=\"T_2016e_row17_col1\" class=\"data row17 col1\" >1.000000</td>\n",
       "      <td id=\"T_2016e_row17_col2\" class=\"data row17 col2\" >0.000000</td>\n",
       "      <td id=\"T_2016e_row17_col3\" class=\"data row17 col3\" >1.000000</td>\n",
       "    </tr>\n",
       "    <tr>\n",
       "      <th id=\"T_2016e_level0_row18\" class=\"row_heading level0 row18\" >compra</th>\n",
       "      <td id=\"T_2016e_row18_col0\" class=\"data row18 col0\" >0.445539</td>\n",
       "      <td id=\"T_2016e_row18_col1\" class=\"data row18 col1\" >0.444788</td>\n",
       "      <td id=\"T_2016e_row18_col2\" class=\"data row18 col2\" >0.416977</td>\n",
       "      <td id=\"T_2016e_row18_col3\" class=\"data row18 col3\" >0.323492</td>\n",
       "    </tr>\n",
       "  </tbody>\n",
       "</table>\n"
      ],
      "text/plain": [
       "<pandas.io.formats.style.Styler at 0x1e22cb966d0>"
      ]
     },
     "execution_count": 65,
     "metadata": {},
     "output_type": "execute_result"
    }
   ],
   "source": [
    "df.groupby('segmento').mean().T \\\n",
    "    .style.highlight_max(color = 'lightgreen', axis = 1) \\\n",
    "    .highlight_min(color = 'red', axis = 1)"
   ]
  },
  {
   "cell_type": "markdown",
   "id": "49fe1074",
   "metadata": {},
   "source": [
    "Este es peor porque no muestra una clara diferencia entre los clusters que tienen una alta tasa de conversion de los\n",
    "tienen una baja tasa"
   ]
  },
  {
   "cell_type": "code",
   "execution_count": null,
   "id": "fbe9d6e9",
   "metadata": {},
   "outputs": [],
   "source": []
  }
 ],
 "metadata": {
  "kernelspec": {
   "display_name": "Python 3 (ipykernel)",
   "language": "python",
   "name": "python3"
  },
  "language_info": {
   "codemirror_mode": {
    "name": "ipython",
    "version": 3
   },
   "file_extension": ".py",
   "mimetype": "text/x-python",
   "name": "python",
   "nbconvert_exporter": "python",
   "pygments_lexer": "ipython3",
   "version": "3.11.8"
  },
  "toc": {
   "base_numbering": 1,
   "nav_menu": {},
   "number_sections": true,
   "sideBar": true,
   "skip_h1_title": false,
   "title_cell": "Table of Contents",
   "title_sidebar": "Contents",
   "toc_cell": false,
   "toc_position": {
    "height": "calc(100% - 180px)",
    "left": "10px",
    "top": "150px",
    "width": "166.615px"
   },
   "toc_section_display": true,
   "toc_window_display": true
  },
  "varInspector": {
   "cols": {
    "lenName": 16,
    "lenType": 16,
    "lenVar": 40
   },
   "kernels_config": {
    "python": {
     "delete_cmd_postfix": "",
     "delete_cmd_prefix": "del ",
     "library": "var_list.py",
     "varRefreshCmd": "print(var_dic_list())"
    },
    "r": {
     "delete_cmd_postfix": ") ",
     "delete_cmd_prefix": "rm(",
     "library": "var_list.r",
     "varRefreshCmd": "cat(var_dic_list()) "
    }
   },
   "position": {
    "height": "546.85px",
    "left": "1531.75px",
    "right": "20px",
    "top": "115px",
    "width": "350px"
   },
   "types_to_exclude": [
    "module",
    "function",
    "builtin_function_or_method",
    "instance",
    "_Feature"
   ],
   "window_display": false
  }
 },
 "nbformat": 4,
 "nbformat_minor": 5
}
